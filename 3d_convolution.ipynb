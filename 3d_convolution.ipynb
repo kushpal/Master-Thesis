{
 "cells": [
  {
   "cell_type": "code",
   "execution_count": 12,
   "metadata": {},
   "outputs": [],
   "source": [
    "%matplotlib notebook\n",
    "%matplotlib inline\n",
    "from nibabel.testing import data_path\n",
    "import numpy as np\n",
    "import tensorflow as tf\n",
    "from keras import applications\n",
    "import nibabel as nib\n",
    "import keras\n",
    "import seaborn as sns\n",
    "from matplotlib import pyplot as plt"
   ]
  },
  {
   "cell_type": "code",
   "execution_count": 13,
   "metadata": {},
   "outputs": [],
   "source": [
    "config = tf.ConfigProto( device_count = {'GPU': 1 , 'CPU': 56} ) \n",
    "sess = tf.Session(config=config) \n",
    "keras.backend.set_session(sess)"
   ]
  },
  {
   "cell_type": "code",
   "execution_count": 14,
   "metadata": {},
   "outputs": [
    {
     "name": "stdout",
     "output_type": "stream",
     "text": [
      "[name: \"/device:CPU:0\"\n",
      "device_type: \"CPU\"\n",
      "memory_limit: 268435456\n",
      "locality {\n",
      "}\n",
      "incarnation: 2367599147616206400\n",
      ", name: \"/device:XLA_GPU:0\"\n",
      "device_type: \"XLA_GPU\"\n",
      "memory_limit: 17179869184\n",
      "locality {\n",
      "}\n",
      "incarnation: 938508606825554545\n",
      "physical_device_desc: \"device: XLA_GPU device\"\n",
      ", name: \"/device:XLA_CPU:0\"\n",
      "device_type: \"XLA_CPU\"\n",
      "memory_limit: 17179869184\n",
      "locality {\n",
      "}\n",
      "incarnation: 12818381990054519496\n",
      "physical_device_desc: \"device: XLA_CPU device\"\n",
      ", name: \"/device:GPU:0\"\n",
      "device_type: \"GPU\"\n",
      "memory_limit: 3602907136\n",
      "locality {\n",
      "  bus_id: 1\n",
      "  links {\n",
      "  }\n",
      "}\n",
      "incarnation: 6052512008501468914\n",
      "physical_device_desc: \"device: 0, name: GeForce GTX 1050 Ti, pci bus id: 0000:01:00.0, compute capability: 6.1\"\n",
      "]\n"
     ]
    }
   ],
   "source": [
    "from tensorflow.python.client import device_lib \n",
    "print(device_lib.list_local_devices())"
   ]
  },
  {
   "cell_type": "code",
   "execution_count": 15,
   "metadata": {},
   "outputs": [],
   "source": [
    "import matplotlib.pyplot as plt\n",
    "import glob\n",
    "from keras.losses import categorical_crossentropy\n",
    "from keras.models import Sequential\n",
    "from keras.layers import Dense, Conv2D, Dropout, Flatten, MaxPooling2D\n",
    "from keras import layers\n",
    "from keras.callbacks import EarlyStopping\n",
    "from sklearn.model_selection import train_test_split\n",
    "from keras import initializers"
   ]
  },
  {
   "cell_type": "code",
   "execution_count": 16,
   "metadata": {},
   "outputs": [],
   "source": [
    "Adni_normal_6_months=glob.glob('/home/kushpal/THESIS/ADNI_Normal/Normal-m06-3.0T(27)/[0-9]*/*/*/*/w*')\n",
    "Adni_normal_12_months=glob.glob('/home/kushpal/THESIS/ADNI_Normal/Normal-m12-3.0T(27)/[0-9]*/*/*/*/w*')\n",
    "Adni_normal_24_months=glob.glob('/home/kushpal/THESIS/ADNI_Normal/Normal-m24-3.0T(27)/[0-9]*/*/*/*/w*')\n",
    "Adni_normal_36_months=glob.glob('/home/kushpal/THESIS/ADNI_Normal/Normal-m36-3.0T(27)/[0-9]*/*/*/*/w*')\n",
    "\n",
    "Mci_bl_3_months=glob.glob('/home/kushpal/THESIS/MCI/MCI-bl-3.0T (22)/[0-9]*/*/*/*/w*')\n",
    "Mci_6_months=glob.glob('/home/kushpal/THESIS/MCI/MCI-m06-3.0T (22)/[0-9]*/*/*/*/w*')\n",
    "Mci_12_months=glob.glob('/home/kushpal/THESIS/MCI/MCI-m12-3.0T (22)/[0-9]*/*/*/*/w*')\n",
    "Mci_24_months=glob.glob('/home/kushpal/THESIS/MCI/MCI-m24-3.0T (22)/[0-9]*/*/*/*/w*')\n",
    "Mci_36_months=glob.glob('/home/kushpal/THESIS/MCI/MCI-m36-3.0T (22)/[0-9]*/*/*/*/w*')\n",
    "\n",
    "Ad_bl_3_months=glob.glob(\"/home/kushpal/THESIS/AD-bl-3.0T(22)/[0-9]*/*/*/*/w*\")\n",
    "Ad_6_months=glob.glob(\"/home/kushpal/THESIS/AD-m06-3.0T(22)/[0-9]*/*/*/*/w*\")\n",
    "Ad_12_months=glob.glob(\"/home/kushpal/THESIS/AD-m12-3.0T(22)/[0-9]*/*/*/*/w*\")\n",
    "Ad_24_months=glob.glob(\"/home/kushpal/THESIS/AD-m24-3.0T(22)/[0-9]*/*/*/*/w*\")\n"
   ]
  },
  {
   "cell_type": "code",
   "execution_count": 17,
   "metadata": {},
   "outputs": [
    {
     "data": {
      "text/plain": [
       "(27, 22, 22)"
      ]
     },
     "execution_count": 17,
     "metadata": {},
     "output_type": "execute_result"
    }
   ],
   "source": [
    "len(Adni_normal_6_months),len(Mci_bl_3_months),len(Ad_bl_3_months)"
   ]
  },
  {
   "cell_type": "code",
   "execution_count": 23,
   "metadata": {},
   "outputs": [],
   "source": [
    "Adni_normal_image_X=[]\n",
    "Adni_normal_image_Y=[]\n",
    "for i in range(len(Adni_normal_6_months)):\n",
    "    newimg = nib.load(Adni_normal_6_months[i])\n",
    "    data = newimg.get_data()\n",
    "    Adni_normal_image_X.append(data)\n",
    "    Adni_normal_image_Y.append(0)\n",
    "for i in range(len(Adni_normal_12_months)):\n",
    "    newimg = nib.load(Adni_normal_12_months[i])\n",
    "    data = newimg.get_data()\n",
    "    Adni_normal_image_X.append(data)\n",
    "    Adni_normal_image_Y.append(0)\n",
    "    \n",
    "for i in range(len(Adni_normal_24_months)):\n",
    "    newimg = nib.load(Adni_normal_24_months[i])\n",
    "    data = newimg.get_data()\n",
    "    Adni_normal_image_X.append(data)\n",
    "    Adni_normal_image_Y.append(0)\n",
    "for i in range(len(Adni_normal_36_months)):\n",
    "    newimg = nib.load(Adni_normal_36_months[i])\n",
    "    data = newimg.get_data()\n",
    "    Adni_normal_image_X.append(data)\n",
    "    Adni_normal_image_Y.append(0)\n",
    "\n",
    "\n",
    "Mci_image_X=[]\n",
    "Mci_image_Y=[]\n",
    "for i in range(len(Mci_bl_3_months)):\n",
    "    newimg = nib.load(Mci_bl_3_months[i])\n",
    "    data = newimg.get_data()\n",
    "    Mci_image_X.append(data)\n",
    "    Mci_image_Y.append(1)\n",
    "for i in range(len(Mci_6_months)):\n",
    "    newimg = nib.load(Mci_6_months[i])\n",
    "    data = newimg.get_data()\n",
    "    Mci_image_X.append(data)\n",
    "    Mci_image_Y.append(1)\n",
    "for i in range(len(Mci_12_months)):\n",
    "    newimg = nib.load(Mci_12_months[i])\n",
    "    data = newimg.get_data()\n",
    "    Mci_image_X.append(data)\n",
    "    Mci_image_Y.append(1)\n",
    "    \n",
    "for i in range(len(Mci_24_months)):\n",
    "    newimg = nib.load(Mci_24_months[i])\n",
    "    data = newimg.get_data()\n",
    "    Mci_image_X.append(data)\n",
    "    Mci_image_Y.append(1)\n",
    "    \n",
    "for i in range(len(Mci_36_months)):\n",
    "    newimg = nib.load(Mci_36_months[i])\n",
    "    data = newimg.get_data()\n",
    "    Mci_image_X.append(data)\n",
    "    Mci_image_Y.append(1)\n",
    "\n",
    "\n",
    "Ad_image_X=[]\n",
    "Ad_image_Y=[]\n",
    "for i in range(len(Ad_bl_3_months)):\n",
    "    newimg = nib.load(Ad_bl_3_months[i])\n",
    "    data = newimg.get_data()\n",
    "    Ad_image_X.append(data)\n",
    "    Ad_image_Y.append(2)\n",
    "for i in range(len(Ad_6_months)):\n",
    "    newimg = nib.load(Ad_6_months[i])\n",
    "    data = newimg.get_data()\n",
    "    Ad_image_X.append(data)\n",
    "    Ad_image_Y.append(2)\n",
    "for i in range(len(Ad_12_months)):\n",
    "    newimg = nib.load(Ad_12_months[i])\n",
    "    data = newimg.get_data()\n",
    "    Ad_image_X.append(data)\n",
    "    Ad_image_Y.append(2)\n",
    "    \n",
    "for i in range(len(Ad_24_months)):\n",
    "    newimg = nib.load(Ad_24_months[i])\n",
    "    data = newimg.get_data()\n",
    "    Ad_image_X.append(data)\n",
    "    Ad_image_Y.append(2)"
   ]
  },
  {
   "cell_type": "code",
   "execution_count": 27,
   "metadata": {},
   "outputs": [
    {
     "data": {
      "text/plain": [
       "<matplotlib.image.AxesImage at 0x7f4eb011b198>"
      ]
     },
     "execution_count": 27,
     "metadata": {},
     "output_type": "execute_result"
    },
    {
     "data": {
      "image/png": "[encoded data removed]",
      "text/plain": [
       "<Figure size 432x288 with 1 Axes>"
      ]
     },
     "metadata": {},
     "output_type": "display_data"
    }
   ],
   "source": [
    "#Ad_image_X[0][0]\n",
    "import matplotlib.pyplot as plt\n",
    "\n",
    "##Let’s now look at a slice in that array:\n",
    "\n",
    "plt.figure(1)\n",
    "plt.imshow(Ad_image_X[25][25])#Ad_image_X[0][0]\n",
    "\n",
    "##Let’s now look at a slice in that array:"
   ]
  },
  {
   "cell_type": "code",
   "execution_count": 28,
   "metadata": {},
   "outputs": [],
   "source": [
    "cn=[]\n",
    "for i in range(len(Adni_normal_image_X)):\n",
    "    cn.append(Adni_normal_image_X[i][15:105])\n",
    "    \n",
    "    \n",
    "mci=[]\n",
    "for i in range(len(Mci_image_X)):\n",
    "    mci.append(Mci_image_X[i][15:105])\n",
    "ad=[]\n",
    "for i in range(len(Ad_image_X)):\n",
    "    ad.append(Ad_image_X[i][15:105])\n",
    "    \n",
    "del Adni_normal_image_X\n",
    "del Mci_image_X\n",
    "del Ad_image_X"
   ]
  },
  {
   "cell_type": "code",
   "execution_count": 29,
   "metadata": {},
   "outputs": [],
   "source": [
    "Total_data_X=[]\n",
    "Total_data_Y=[]\n",
    "for i in range(len(ad)):\n",
    "    Total_data_X.append(ad[i])\n",
    "    Total_data_Y.append(2)\n",
    "for i in range(len(mci)):\n",
    "    Total_data_X.append(mci[i])\n",
    "    Total_data_Y.append(1)\n",
    "for i in range(len(cn)):\n",
    "    Total_data_X.append(cn[i])\n",
    "    Total_data_Y.append(0)\n",
    "del ad\n",
    "del cn\n",
    "del mci"
   ]
  },
  {
   "cell_type": "code",
   "execution_count": 30,
   "metadata": {},
   "outputs": [
    {
     "data": {
      "image/png": "[encoded data removed]",
      "text/plain": [
       "<Figure size 432x288 with 1 Axes>"
      ]
     },
     "metadata": {},
     "output_type": "display_data"
    }
   ],
   "source": [
    "#Ad_image_X[0][0]\n",
    "import matplotlib.pyplot as plt\n",
    "\n",
    "##Let’s now look at a slice in that array:\n",
    "\n",
    "plt.figure(1)\n",
    "plt.imshow(Total_data_X[0][0],cmap = plt.get_cmap(name = 'gray'))\n",
    "plt.show()"
   ]
  },
  {
   "cell_type": "code",
   "execution_count": 31,
   "metadata": {},
   "outputs": [],
   "source": [
    "Newdata = np.asarray(Total_data_X)"
   ]
  },
  {
   "cell_type": "code",
   "execution_count": 32,
   "metadata": {},
   "outputs": [
    {
     "data": {
      "text/plain": [
       "(303, 90, 145, 121)"
      ]
     },
     "execution_count": 32,
     "metadata": {},
     "output_type": "execute_result"
    }
   ],
   "source": [
    "Newdata.shape"
   ]
  },
  {
   "cell_type": "code",
   "execution_count": 33,
   "metadata": {},
   "outputs": [],
   "source": [
    "\n",
    "\n",
    "maindata=Newdata.reshape(len(Newdata)*90,145,121,1)\n",
    "del Newdata\n",
    "new_y=[]\n",
    "for i in range (len(Total_data_X)):\n",
    "    for j in range(90):\n",
    "        new_y.append(Total_data_Y[i])\n",
    "new_y=np.array(new_y)\n",
    "del Total_data_X\n",
    "del Total_data_Y"
   ]
  },
  {
   "cell_type": "code",
   "execution_count": 34,
   "metadata": {},
   "outputs": [],
   "source": [
    "X_train, X_test, y_train, y_test = train_test_split(maindata, new_y, test_size=0.33)\n",
    "del maindata"
   ]
  },
  {
   "cell_type": "code",
   "execution_count": 35,
   "metadata": {},
   "outputs": [
    {
     "data": {
      "text/plain": [
       "((18270, 145, 121, 1), (18270,))"
      ]
     },
     "execution_count": 35,
     "metadata": {},
     "output_type": "execute_result"
    }
   ],
   "source": [
    "X_train.shape,y_train.shape"
   ]
  },
  {
   "cell_type": "code",
   "execution_count": 37,
   "metadata": {
    "scrolled": true
   },
   "outputs": [],
   "source": [
    "from sklearn.utils import shuffle\n",
    "x_train = X_train.astype('float32')\n",
    "y_train = keras.utils.to_categorical(y_train)\n",
    "\n",
    "#x_train, y_train = shuffle(x_train, y_train)\n",
    "\n",
    "y_old_test=y_test\n",
    "y_test = keras.utils.to_categorical(y_test)\n",
    "def discriminator_model():\n",
    "    ## Removed \n",
    "    ## \n",
    "    return model\n",
    "#model=discriminator_model()\n",
    "#print(model.summary())\n"
   ]
  },
  {
   "cell_type": "code",
   "execution_count": 43,
   "metadata": {},
   "outputs": [
    {
     "name": "stdout",
     "output_type": "stream",
     "text": [
      "Train on 16443 samples, validate on 1827 samples\n",
      "Epoch 1/20\n",
      "16443/16443 [==============================] - 31s 2ms/step - loss: 0.9457 - acc: 0.5761 - val_loss: 0.7746 - val_acc: 0.7362\n",
      "Epoch 2/20\n",
      "16443/16443 [==============================] - 31s 2ms/step - loss: 0.5253 - acc: 0.8782 - val_loss: 0.4767 - val_acc: 0.9403\n",
      "Epoch 3/20\n",
      "16443/16443 [==============================] - 31s 2ms/step - loss: 0.4253 - acc: 0.9490 - val_loss: 0.4327 - val_acc: 0.9551\n",
      "Epoch 4/20\n",
      "16443/16443 [==============================] - 31s 2ms/step - loss: 0.3822 - acc: 0.9729 - val_loss: 0.3968 - val_acc: 0.9836\n",
      "Epoch 5/20\n",
      "16443/16443 [==============================] - 31s 2ms/step - loss: 0.3636 - acc: 0.9804 - val_loss: 0.3738 - val_acc: 0.9912\n",
      "Epoch 6/20\n",
      "16443/16443 [==============================] - 31s 2ms/step - loss: 0.3472 - acc: 0.9862 - val_loss: 0.3769 - val_acc: 0.9858\n",
      "Epoch 7/20\n",
      "16443/16443 [==============================] - 31s 2ms/step - loss: 0.3348 - acc: 0.9891 - val_loss: 0.3516 - val_acc: 0.9956\n",
      "Epoch 8/20\n",
      "16443/16443 [==============================] - 31s 2ms/step - loss: 0.3274 - acc: 0.9917 - val_loss: 0.3501 - val_acc: 0.9956\n",
      "Epoch 9/20\n",
      "16443/16443 [==============================] - 31s 2ms/step - loss: 0.3174 - acc: 0.9939 - val_loss: 0.3589 - val_acc: 0.9956\n",
      "Epoch 10/20\n",
      "16443/16443 [==============================] - 31s 2ms/step - loss: 0.3082 - acc: 0.9951 - val_loss: 0.3458 - val_acc: 0.9978\n",
      "Epoch 11/20\n",
      "16443/16443 [==============================] - 31s 2ms/step - loss: 0.3024 - acc: 0.9952 - val_loss: 0.3322 - val_acc: 0.9984\n",
      "Epoch 12/20\n",
      "16443/16443 [==============================] - 31s 2ms/step - loss: 0.2962 - acc: 0.9959 - val_loss: 0.3332 - val_acc: 0.9989\n",
      "Epoch 13/20\n",
      "16443/16443 [==============================] - 31s 2ms/step - loss: 0.2919 - acc: 0.9962 - val_loss: 0.3451 - val_acc: 0.9989\n",
      "Epoch 14/20\n",
      "16443/16443 [==============================] - 31s 2ms/step - loss: 0.2883 - acc: 0.9971 - val_loss: 0.3508 - val_acc: 0.9918\n",
      "Epoch 15/20\n",
      "16443/16443 [==============================] - 31s 2ms/step - loss: 0.2820 - acc: 0.9969 - val_loss: 0.3502 - val_acc: 0.9863\n",
      "Epoch 16/20\n",
      "16443/16443 [==============================] - 31s 2ms/step - loss: 0.2912 - acc: 0.9948 - val_loss: 0.3019 - val_acc: 0.9945\n",
      "Epoch 17/20\n",
      "16443/16443 [==============================] - 31s 2ms/step - loss: 0.2737 - acc: 0.9979 - val_loss: 0.2818 - val_acc: 0.9989\n",
      "Epoch 18/20\n",
      "16443/16443 [==============================] - 31s 2ms/step - loss: 0.2693 - acc: 0.9981 - val_loss: 0.3046 - val_acc: 0.9973\n",
      "Epoch 19/20\n",
      "16443/16443 [==============================] - 31s 2ms/step - loss: 0.2625 - acc: 0.9984 - val_loss: 0.2893 - val_acc: 0.9967\n",
      "Epoch 20/20\n",
      "16443/16443 [==============================] - 31s 2ms/step - loss: 0.2588 - acc: 0.9986 - val_loss: 0.2807 - val_acc: 0.9984\n"
     ]
    }
   ],
   "source": [
    "model.compile(keras.optimizers.Adam(lr=1e-5), 'categorical_crossentropy', metrics=['acc'])\n",
    "history=model.fit(x=x_train,y=y_train,batch_size=30, epochs=20,validation_split=0.1)"
   ]
  },
  {
   "cell_type": "code",
   "execution_count": 44,
   "metadata": {},
   "outputs": [
    {
     "name": "stdout",
     "output_type": "stream",
     "text": [
      "9000/9000 [==============================] - 4s 493us/step\n",
      "[0.2790526786910163, 0.9971110820770264]\n"
     ]
    }
   ],
   "source": [
    "del x_train\n",
    "#X_test=np.array(X_test)\n",
    "#x_test = X_test.reshape(X_test.shape[0]*121, 145,121,1)\n",
    "x_test = X_test.astype('float32')\n",
    "print(model.evaluate(x_test,y_test))"
   ]
  },
  {
   "cell_type": "code",
   "execution_count": 45,
   "metadata": {},
   "outputs": [
    {
     "data": {
      "text/plain": [
       "Text(0, 0.5, 'Accuracy')"
      ]
     },
     "execution_count": 45,
     "metadata": {},
     "output_type": "execute_result"
    },
    {
     "data": {
      "image/png": "[encoded data removed]",
      "text/plain": [
       "<Figure size 432x288 with 1 Axes>"
      ]
     },
     "metadata": {},
     "output_type": "display_data"
    }
   ],
   "source": [
    "plt.plot(history.history['acc'])\n",
    "plt.plot(history.history['val_acc'])\n",
    "plt.legend(['Training Accuracy' ,'Validation Accuracy'])\n",
    "plt.title(\"Proposed Model\")\n",
    "plt.xlabel(\"Epoch\")\n",
    "plt.ylabel(\"Accuracy\")"
   ]
  },
  {
   "cell_type": "code",
   "execution_count": 46,
   "metadata": {},
   "outputs": [],
   "source": [
    "y_pred=model.predict_classes(x_test)"
   ]
  },
  {
   "cell_type": "code",
   "execution_count": 47,
   "metadata": {},
   "outputs": [],
   "source": [
    "y_test_old=np.array(y_old_test)"
   ]
  },
  {
   "cell_type": "code",
   "execution_count": 48,
   "metadata": {},
   "outputs": [
    {
     "data": {
      "image/png": "[encoded data removed]",
      "text/plain": [
       "<Figure size 288x288 with 2 Axes>"
      ]
     },
     "metadata": {},
     "output_type": "display_data"
    }
   ],
   "source": [
    "import pandas as pd\n",
    "from sklearn.metrics import accuracy_score, confusion_matrix\n",
    "cm = confusion_matrix(y_test_old, y_pred)\n",
    "\n",
    "# Transform to df for easier plotting\n",
    "cm_df = pd.DataFrame(cm,\n",
    "                     index = ['NC','MCI','AD'], \n",
    "                     columns = ['NC','MCI','AD'])\n",
    "\n",
    "plt.figure(figsize = (4,4))\n",
    "sns.heatmap(cm_df, fmt = 'd' , cmap=\"YlGnBu\",  annot=True, linewidths=.5)\n",
    "plt.title('CNN \\nAccuracy:{0:.3f}'.format(accuracy_score(y_test_old, y_pred)))\n",
    "plt.ylabel('True label')\n",
    "plt.xlabel('Predicted label')\n",
    "plt.show()"
   ]
  },
  {
   "cell_type": "code",
   "execution_count": 49,
   "metadata": {},
   "outputs": [
    {
     "name": "stdout",
     "output_type": "stream",
     "text": [
      "              precision    recall  f1-score   support\n",
      "\n",
      "          NC       0.99      1.00      1.00      3169\n",
      "         MCI       1.00      1.00      1.00      3280\n",
      "          AD       1.00      1.00      1.00      2551\n",
      "\n",
      "    accuracy                           1.00      9000\n",
      "   macro avg       1.00      1.00      1.00      9000\n",
      "weighted avg       1.00      1.00      1.00      9000\n",
      "\n"
     ]
    }
   ],
   "source": [
    "from sklearn.metrics import classification_report\n",
    "target_names = ['NC', 'MCI', 'AD']\n",
    "print(classification_report(y_test_old, y_pred, target_names=target_names))"
   ]
  },
  {
   "cell_type": "code",
   "execution_count": null,
   "metadata": {},
   "outputs": [],
   "source": []
  }
 ],
 "metadata": {
  "kernelspec": {
   "display_name": "Python 3",
   "language": "python",
   "name": "python3"
  },
  "language_info": {
   "codemirror_mode": {
    "name": "ipython",
    "version": 3
   },
   "file_extension": ".py",
   "mimetype": "text/x-python",
   "name": "python",
   "nbconvert_exporter": "python",
   "pygments_lexer": "ipython3",
   "version": "3.6.8"
  }
 },
 "nbformat": 4,
 "nbformat_minor": 2
}
