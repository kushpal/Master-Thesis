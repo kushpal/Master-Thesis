{
 "cells": [
  {
   "cell_type": "code",
   "execution_count": 2,
   "metadata": {},
   "outputs": [],
   "source": [
    "from nibabel.testing import data_path\n",
    "import numpy as np\n",
    "import tensorflow as tf\n",
    "from keras import applications\n",
    "import nibabel as nib\n",
    "import keras"
   ]
  },
  {
   "cell_type": "code",
   "execution_count": 3,
   "metadata": {},
   "outputs": [],
   "source": [
    "config = tf.ConfigProto( device_count = {'GPU': 1 , 'CPU': 56} ) \n",
    "sess = tf.Session(config=config) \n",
    "keras.backend.set_session(sess)"
   ]
  },
  {
   "cell_type": "code",
   "execution_count": 5,
   "metadata": {},
   "outputs": [],
   "source": [
    "import matplotlib.pyplot as plt\n",
    "import glob\n",
    "from keras.losses import categorical_crossentropy\n",
    "from keras.models import Sequential\n",
    "from keras.layers import Dense, Conv2D, Dropout, Flatten, MaxPooling2D\n",
    "from keras import layers\n",
    "\n",
    "from sklearn.model_selection import train_test_split"
   ]
  },
  {
   "cell_type": "code",
   "execution_count": 6,
   "metadata": {},
   "outputs": [],
   "source": [
    "Adni_normal_6_months=glob.glob('/home/kushpal/Kushpal/ADNI_Normal/Normal-m06-3.0T(27)/[0-9]*/*/*/*/w*')\n",
    "Adni_normal_12_months=glob.glob('/home/kushpal/Kushpal/ADNI_Normal/Normal-m12-3.0T(27)/[0-9]*/*/*/*/w*')\n",
    "Adni_normal_24_months=glob.glob('/home/kushpal/Kushpal/ADNI_Normal/Normal-m24-3.0T(27)/[0-9]*/*/*/*/w*')\n",
    "Adni_normal_36_months=glob.glob('/home/kushpal/Kushpal/ADNI_Normal/Normal-m36-3.0T(27)/[0-9]*/*/*/*/w*')\n",
    "\n",
    "Mci_bl_3_months=glob.glob('/home/kushpal/Kushpal/MCI/MCI-bl-3.0T (22)/[0-9]*/*/*/*/w*')\n",
    "Mci_6_months=glob.glob('/home/kushpal/Kushpal/MCI/MCI-m06-3.0T (22)/[0-9]*/*/*/*/w*')\n",
    "Mci_12_months=glob.glob('/home/kushpal/Kushpal/MCI/MCI-m12-3.0T (22)/[0-9]*/*/*/*/w*')\n",
    "Mci_24_months=glob.glob('/home/kushpal/Kushpal/MCI/MCI-m24-3.0T (22)/[0-9]*/*/*/*/w*')\n",
    "Mci_36_months=glob.glob('/home/kushpal/Kushpal/MCI/MCI-m36-3.0T (22)/[0-9]*/*/*/*/w*')\n",
    "\n",
    "Ad_bl_3_months=glob.glob('/home/kushpal/Kushpal/AD-bl-3.0T(22)/[0-9]*/*/*/*/w*')\n",
    "Ad_6_months=glob.glob('/home/kushpal/Kushpal/AD-m06-3.0T(22)/[0-9]*/*/*/*/w*')\n",
    "Ad_12_months=glob.glob('/home/kushpal/Kushpal/AD-m12-3.0T(22)/[0-9]*/*/*/*/w*')\n",
    "Ad_24_months=glob.glob('/home/kushpal/Kushpal/AD-m24-3.0T(22)/[0-9]*/*/*/*/w*')\n"
   ]
  },
  {
   "cell_type": "code",
   "execution_count": 7,
   "metadata": {},
   "outputs": [],
   "source": [
    "Adni_normal_image_X=[]\n",
    "Adni_normal_image_Y=[]\n",
    "for i in range(len(Adni_normal_6_months)):\n",
    "    newimg = nib.load(Adni_normal_6_months[i])\n",
    "    data = newimg.get_data()\n",
    "    Adni_normal_image_X.append(data)\n",
    "    Adni_normal_image_Y.append(0)\n",
    "for i in range(len(Adni_normal_12_months)):\n",
    "    newimg = nib.load(Adni_normal_12_months[i])\n",
    "    data = newimg.get_data()\n",
    "    Adni_normal_image_X.append(data)\n",
    "    Adni_normal_image_Y.append(0)\n",
    "    \n",
    "for i in range(len(Adni_normal_24_months)):\n",
    "    newimg = nib.load(Adni_normal_24_months[i])\n",
    "    data = newimg.get_data()\n",
    "    Adni_normal_image_X.append(data)\n",
    "    Adni_normal_image_Y.append(0)\n",
    "for i in range(len(Adni_normal_36_months)):\n",
    "    newimg = nib.load(Adni_normal_36_months[i])\n",
    "    data = newimg.get_data()\n",
    "    Adni_normal_image_X.append(data)\n",
    "    Adni_normal_image_Y.append(0)\n",
    "\n",
    "\n",
    "Mci_image_X=[]\n",
    "Mci_image_Y=[]\n",
    "for i in range(len(Mci_bl_3_months)):\n",
    "    newimg = nib.load(Mci_bl_3_months[i])\n",
    "    data = newimg.get_data()\n",
    "    Mci_image_X.append(data)\n",
    "    Mci_image_Y.append(1)\n",
    "for i in range(len(Mci_6_months)):\n",
    "    newimg = nib.load(Mci_6_months[i])\n",
    "    data = newimg.get_data()\n",
    "    Mci_image_X.append(data)\n",
    "    Mci_image_Y.append(1)\n",
    "for i in range(len(Mci_12_months)):\n",
    "    newimg = nib.load(Mci_12_months[i])\n",
    "    data = newimg.get_data()\n",
    "    Mci_image_X.append(data)\n",
    "    Mci_image_Y.append(1)\n",
    "    \n",
    "for i in range(len(Mci_24_months)):\n",
    "    newimg = nib.load(Mci_24_months[i])\n",
    "    data = newimg.get_data()\n",
    "    Mci_image_X.append(data)\n",
    "    Mci_image_Y.append(1)\n",
    "    \n",
    "for i in range(len(Mci_36_months)):\n",
    "    newimg = nib.load(Mci_36_months[i])\n",
    "    data = newimg.get_data()\n",
    "    Mci_image_X.append(data)\n",
    "    Mci_image_Y.append(1)\n",
    "\n",
    "\n",
    "Ad_image_X=[]\n",
    "Ad_image_Y=[]\n",
    "for i in range(len(Ad_bl_3_months)):\n",
    "    newimg = nib.load(Ad_bl_3_months[i])\n",
    "    data = newimg.get_data()\n",
    "    Ad_image_X.append(data)\n",
    "    Ad_image_Y.append(2)\n",
    "for i in range(len(Ad_6_months)):\n",
    "    newimg = nib.load(Ad_6_months[i])\n",
    "    data = newimg.get_data()\n",
    "    Ad_image_X.append(data)\n",
    "    Ad_image_Y.append(2)\n",
    "for i in range(len(Ad_12_months)):\n",
    "    newimg = nib.load(Ad_12_months[i])\n",
    "    data = newimg.get_data()\n",
    "    Ad_image_X.append(data)\n",
    "    Ad_image_Y.append(2)\n",
    "    \n",
    "for i in range(len(Ad_24_months)):\n",
    "    newimg = nib.load(Ad_24_months[i])\n",
    "    data = newimg.get_data()\n",
    "    Ad_image_X.append(data)\n",
    "    Ad_image_Y.append(2)"
   ]
  },
  {
   "cell_type": "code",
   "execution_count": 8,
   "metadata": {},
   "outputs": [],
   "source": [
    "Total_data_X=[]\n",
    "Total_data_Y=[]\n",
    "for i in range(len(Adni_normal_image_X)):\n",
    "    Total_data_X.append(Adni_normal_image_X[i])\n",
    "    Total_data_Y.append(Adni_normal_image_Y[i])\n",
    "for i in range(len(Mci_image_X)):\n",
    "    Total_data_X.append(Mci_image_X[i])\n",
    "    Total_data_Y.append(Mci_image_Y[i])\n",
    "for i in range(len(Ad_image_X)):\n",
    "    Total_data_X.append(Ad_image_X[i])\n",
    "    Total_data_Y.append(Ad_image_Y[i])"
   ]
  },
  {
   "cell_type": "code",
   "execution_count": 9,
   "metadata": {},
   "outputs": [
    {
     "data": {
      "text/plain": [
       "303"
      ]
     },
     "execution_count": 9,
     "metadata": {},
     "output_type": "execute_result"
    }
   ],
   "source": [
    "len(Total_data_X)"
   ]
  },
  {
   "cell_type": "code",
   "execution_count": 11,
   "metadata": {},
   "outputs": [
    {
     "name": "stderr",
     "output_type": "stream",
     "text": [
      "/home/kushpal/.local/lib/python3.5/site-packages/ipykernel_launcher.py:29: UserWarning: Update your `Dense` call to the Keras 2 API: `Dense(3, kernel_regularizer=<keras.reg...)`\n"
     ]
    },
    {
     "name": "stdout",
     "output_type": "stream",
     "text": [
      "Train on 182 samples, validate on 21 samples\n",
      "Epoch 1/50\n",
      "182/182 [==============================] - 2s 12ms/step - loss: 1.2925 - acc: 0.3626 - val_loss: 1.2263 - val_acc: 0.3810\n",
      "Epoch 2/50\n",
      "182/182 [==============================] - 1s 8ms/step - loss: 1.0907 - acc: 0.4615 - val_loss: 1.1412 - val_acc: 0.4762\n",
      "Epoch 3/50\n",
      "182/182 [==============================] - 1s 8ms/step - loss: 0.9696 - acc: 0.5275 - val_loss: 1.0332 - val_acc: 0.5238\n",
      "Epoch 4/50\n",
      "182/182 [==============================] - 1s 8ms/step - loss: 0.9057 - acc: 0.6154 - val_loss: 0.9491 - val_acc: 0.5714\n",
      "Epoch 5/50\n",
      "182/182 [==============================] - 1s 8ms/step - loss: 0.8548 - acc: 0.6538 - val_loss: 0.8927 - val_acc: 0.5714\n",
      "Epoch 6/50\n",
      "182/182 [==============================] - 1s 8ms/step - loss: 0.8086 - acc: 0.7253 - val_loss: 0.8550 - val_acc: 0.5714\n",
      "Epoch 7/50\n",
      "182/182 [==============================] - 1s 8ms/step - loss: 0.7666 - acc: 0.7857 - val_loss: 0.8299 - val_acc: 0.6667\n",
      "Epoch 8/50\n",
      "182/182 [==============================] - 2s 8ms/step - loss: 0.7249 - acc: 0.8132 - val_loss: 0.8148 - val_acc: 0.7619\n",
      "Epoch 9/50\n",
      "182/182 [==============================] - 1s 8ms/step - loss: 0.6838 - acc: 0.8462 - val_loss: 0.8062 - val_acc: 0.7619\n",
      "Epoch 10/50\n",
      "182/182 [==============================] - 1s 8ms/step - loss: 0.6465 - acc: 0.8626 - val_loss: 0.7956 - val_acc: 0.7619\n",
      "Epoch 11/50\n",
      "182/182 [==============================] - 1s 8ms/step - loss: 0.6199 - acc: 0.8571 - val_loss: 0.7767 - val_acc: 0.7619\n",
      "Epoch 12/50\n",
      "182/182 [==============================] - 2s 8ms/step - loss: 0.5971 - acc: 0.9011 - val_loss: 0.7554 - val_acc: 0.8095\n",
      "Epoch 13/50\n",
      "182/182 [==============================] - 1s 8ms/step - loss: 0.5695 - acc: 0.9341 - val_loss: 0.7351 - val_acc: 0.8095\n",
      "Epoch 14/50\n",
      "182/182 [==============================] - 2s 8ms/step - loss: 0.5386 - acc: 0.9451 - val_loss: 0.7193 - val_acc: 0.8095\n",
      "Epoch 15/50\n",
      "182/182 [==============================] - 1s 8ms/step - loss: 0.5114 - acc: 0.9505 - val_loss: 0.7072 - val_acc: 0.8095\n",
      "Epoch 16/50\n",
      "182/182 [==============================] - 2s 8ms/step - loss: 0.4874 - acc: 0.9505 - val_loss: 0.6974 - val_acc: 0.8095\n",
      "Epoch 17/50\n",
      "182/182 [==============================] - 1s 8ms/step - loss: 0.4645 - acc: 0.9615 - val_loss: 0.6860 - val_acc: 0.8095\n",
      "Epoch 18/50\n",
      "182/182 [==============================] - 1s 8ms/step - loss: 0.4441 - acc: 0.9670 - val_loss: 0.6693 - val_acc: 0.8095\n",
      "Epoch 19/50\n",
      "182/182 [==============================] - 1s 8ms/step - loss: 0.4292 - acc: 0.9725 - val_loss: 0.6471 - val_acc: 0.8095\n",
      "Epoch 20/50\n",
      "182/182 [==============================] - 1s 8ms/step - loss: 0.4163 - acc: 0.9725 - val_loss: 0.6234 - val_acc: 0.8095\n",
      "Epoch 21/50\n",
      "182/182 [==============================] - 1s 8ms/step - loss: 0.4038 - acc: 0.9780 - val_loss: 0.6037 - val_acc: 0.8095\n",
      "Epoch 22/50\n",
      "182/182 [==============================] - 1s 8ms/step - loss: 0.3947 - acc: 0.9780 - val_loss: 0.5897 - val_acc: 0.8571\n",
      "Epoch 23/50\n",
      "182/182 [==============================] - 1s 8ms/step - loss: 0.3870 - acc: 0.9780 - val_loss: 0.5795 - val_acc: 0.9048\n",
      "Epoch 24/50\n",
      "182/182 [==============================] - 1s 8ms/step - loss: 0.3795 - acc: 0.9835 - val_loss: 0.5692 - val_acc: 0.9048\n",
      "Epoch 25/50\n",
      "182/182 [==============================] - 2s 8ms/step - loss: 0.3720 - acc: 0.9835 - val_loss: 0.5571 - val_acc: 0.9048\n",
      "Epoch 26/50\n",
      "182/182 [==============================] - 1s 8ms/step - loss: 0.3629 - acc: 0.9890 - val_loss: 0.5447 - val_acc: 0.9048\n",
      "Epoch 27/50\n",
      "182/182 [==============================] - 1s 8ms/step - loss: 0.3545 - acc: 0.9890 - val_loss: 0.5361 - val_acc: 0.9048\n",
      "Epoch 28/50\n",
      "182/182 [==============================] - 1s 8ms/step - loss: 0.3479 - acc: 0.9890 - val_loss: 0.5314 - val_acc: 0.9048\n",
      "Epoch 29/50\n",
      "182/182 [==============================] - 1s 8ms/step - loss: 0.3418 - acc: 0.9835 - val_loss: 0.5281 - val_acc: 0.9048\n",
      "Epoch 30/50\n",
      "182/182 [==============================] - 1s 8ms/step - loss: 0.3367 - acc: 0.9835 - val_loss: 0.5234 - val_acc: 0.9048\n",
      "Epoch 31/50\n",
      "182/182 [==============================] - 1s 8ms/step - loss: 0.3323 - acc: 0.9835 - val_loss: 0.5142 - val_acc: 0.9048\n",
      "Epoch 32/50\n",
      "182/182 [==============================] - 1s 8ms/step - loss: 0.3280 - acc: 0.9890 - val_loss: 0.5015 - val_acc: 0.9048\n",
      "Epoch 33/50\n",
      "182/182 [==============================] - 1s 8ms/step - loss: 0.3236 - acc: 1.0000 - val_loss: 0.4884 - val_acc: 0.9524\n",
      "Epoch 34/50\n",
      "182/182 [==============================] - 1s 8ms/step - loss: 0.3201 - acc: 1.0000 - val_loss: 0.4777 - val_acc: 0.9524\n",
      "Epoch 35/50\n",
      "182/182 [==============================] - 1s 8ms/step - loss: 0.3171 - acc: 1.0000 - val_loss: 0.4705 - val_acc: 0.9524\n",
      "Epoch 36/50\n",
      "182/182 [==============================] - 1s 8ms/step - loss: 0.3140 - acc: 1.0000 - val_loss: 0.4657 - val_acc: 0.9524\n",
      "Epoch 37/50\n",
      "182/182 [==============================] - 1s 8ms/step - loss: 0.3110 - acc: 1.0000 - val_loss: 0.4619 - val_acc: 0.9524\n",
      "Epoch 38/50\n",
      "182/182 [==============================] - 1s 8ms/step - loss: 0.3084 - acc: 1.0000 - val_loss: 0.4575 - val_acc: 0.9524\n",
      "Epoch 39/50\n",
      "182/182 [==============================] - 1s 8ms/step - loss: 0.3057 - acc: 1.0000 - val_loss: 0.4521 - val_acc: 0.9524\n",
      "Epoch 40/50\n",
      "182/182 [==============================] - 1s 8ms/step - loss: 0.3032 - acc: 1.0000 - val_loss: 0.4467 - val_acc: 0.9524\n",
      "Epoch 41/50\n",
      "182/182 [==============================] - 1s 8ms/step - loss: 0.3013 - acc: 1.0000 - val_loss: 0.4424 - val_acc: 0.9524\n",
      "Epoch 42/50\n",
      "182/182 [==============================] - 1s 8ms/step - loss: 0.2995 - acc: 1.0000 - val_loss: 0.4394 - val_acc: 0.9524\n",
      "Epoch 43/50\n",
      "182/182 [==============================] - 1s 8ms/step - loss: 0.2977 - acc: 1.0000 - val_loss: 0.4370 - val_acc: 0.9524\n",
      "Epoch 44/50\n",
      "182/182 [==============================] - 1s 8ms/step - loss: 0.2959 - acc: 1.0000 - val_loss: 0.4341 - val_acc: 0.9524\n",
      "Epoch 45/50\n",
      "182/182 [==============================] - 2s 8ms/step - loss: 0.2945 - acc: 1.0000 - val_loss: 0.4300 - val_acc: 0.9524\n",
      "Epoch 46/50\n",
      "182/182 [==============================] - 1s 8ms/step - loss: 0.2930 - acc: 1.0000 - val_loss: 0.4253 - val_acc: 0.9524\n",
      "Epoch 47/50\n",
      "182/182 [==============================] - 2s 8ms/step - loss: 0.2916 - acc: 1.0000 - val_loss: 0.4211 - val_acc: 0.9524\n",
      "Epoch 48/50\n",
      "182/182 [==============================] - 1s 8ms/step - loss: 0.2905 - acc: 1.0000 - val_loss: 0.4184 - val_acc: 0.9524\n",
      "Epoch 49/50\n",
      "182/182 [==============================] - 2s 8ms/step - loss: 0.2894 - acc: 1.0000 - val_loss: 0.4167 - val_acc: 0.9524\n",
      "Epoch 50/50\n",
      "182/182 [==============================] - 1s 8ms/step - loss: 0.2881 - acc: 1.0000 - val_loss: 0.4153 - val_acc: 0.9524\n",
      "100/100 [==============================] - 1s 8ms/step\n",
      "Train on 182 samples, validate on 21 samples\n",
      "Epoch 1/50\n",
      "182/182 [==============================] - 2s 13ms/step - loss: 1.2311 - acc: 0.4396 - val_loss: 1.0572 - val_acc: 0.5238\n",
      "Epoch 2/50\n",
      "182/182 [==============================] - 1s 8ms/step - loss: 1.0849 - acc: 0.4945 - val_loss: 1.0462 - val_acc: 0.4762\n",
      "Epoch 3/50\n",
      "182/182 [==============================] - 2s 8ms/step - loss: 0.9982 - acc: 0.5275 - val_loss: 1.0410 - val_acc: 0.5714\n",
      "Epoch 4/50\n",
      "182/182 [==============================] - 1s 8ms/step - loss: 0.9604 - acc: 0.5769 - val_loss: 0.9993 - val_acc: 0.5714\n",
      "Epoch 5/50\n",
      "182/182 [==============================] - 1s 8ms/step - loss: 0.9239 - acc: 0.6374 - val_loss: 0.9252 - val_acc: 0.6190\n",
      "Epoch 6/50\n",
      "182/182 [==============================] - 1s 8ms/step - loss: 0.8749 - acc: 0.6923 - val_loss: 0.8468 - val_acc: 0.6190\n",
      "Epoch 7/50\n",
      "182/182 [==============================] - 1s 8ms/step - loss: 0.8128 - acc: 0.7198 - val_loss: 0.7929 - val_acc: 0.7143\n",
      "Epoch 8/50\n",
      "182/182 [==============================] - 1s 8ms/step - loss: 0.7632 - acc: 0.7857 - val_loss: 0.7630 - val_acc: 0.6667\n",
      "Epoch 9/50\n",
      "182/182 [==============================] - 1s 8ms/step - loss: 0.7388 - acc: 0.8022 - val_loss: 0.7333 - val_acc: 0.7143\n",
      "Epoch 10/50\n",
      "182/182 [==============================] - 1s 8ms/step - loss: 0.7000 - acc: 0.8022 - val_loss: 0.7185 - val_acc: 0.7143\n",
      "Epoch 11/50\n",
      "182/182 [==============================] - 1s 8ms/step - loss: 0.6610 - acc: 0.8077 - val_loss: 0.7313 - val_acc: 0.7143\n",
      "Epoch 12/50\n",
      "182/182 [==============================] - 1s 8ms/step - loss: 0.6266 - acc: 0.8571 - val_loss: 0.7552 - val_acc: 0.6667\n",
      "Epoch 13/50\n",
      "182/182 [==============================] - 1s 8ms/step - loss: 0.5847 - acc: 0.8846 - val_loss: 0.7722 - val_acc: 0.6667\n",
      "Epoch 14/50\n",
      "182/182 [==============================] - 1s 8ms/step - loss: 0.5517 - acc: 0.8846 - val_loss: 0.7588 - val_acc: 0.7143\n",
      "Epoch 15/50\n",
      "182/182 [==============================] - 2s 8ms/step - loss: 0.5292 - acc: 0.8956 - val_loss: 0.7272 - val_acc: 0.8095\n",
      "Epoch 16/50\n",
      "182/182 [==============================] - 1s 8ms/step - loss: 0.5015 - acc: 0.9176 - val_loss: 0.6879 - val_acc: 0.7619\n",
      "Epoch 17/50\n",
      "182/182 [==============================] - 1s 8ms/step - loss: 0.4718 - acc: 0.9396 - val_loss: 0.6572 - val_acc: 0.7619\n",
      "Epoch 18/50\n",
      "182/182 [==============================] - 1s 8ms/step - loss: 0.4529 - acc: 0.9505 - val_loss: 0.6459 - val_acc: 0.8571\n",
      "Epoch 19/50\n",
      "182/182 [==============================] - 1s 8ms/step - loss: 0.4446 - acc: 0.9286 - val_loss: 0.6473 - val_acc: 0.8095\n",
      "Epoch 20/50\n",
      "182/182 [==============================] - 1s 8ms/step - loss: 0.4354 - acc: 0.9451 - val_loss: 0.6436 - val_acc: 0.8095\n",
      "Epoch 21/50\n",
      "182/182 [==============================] - 1s 8ms/step - loss: 0.4172 - acc: 0.9560 - val_loss: 0.6356 - val_acc: 0.8571\n",
      "Epoch 22/50\n",
      "182/182 [==============================] - 1s 8ms/step - loss: 0.3952 - acc: 0.9780 - val_loss: 0.6335 - val_acc: 0.8571\n",
      "Epoch 23/50\n",
      "182/182 [==============================] - 2s 8ms/step - loss: 0.3811 - acc: 0.9945 - val_loss: 0.6359 - val_acc: 0.8571\n",
      "Epoch 24/50\n",
      "182/182 [==============================] - 1s 8ms/step - loss: 0.3767 - acc: 1.0000 - val_loss: 0.6296 - val_acc: 0.8571\n",
      "Epoch 25/50\n",
      "182/182 [==============================] - 1s 8ms/step - loss: 0.3717 - acc: 1.0000 - val_loss: 0.6142 - val_acc: 0.8571\n",
      "Epoch 26/50\n",
      "182/182 [==============================] - 1s 8ms/step - loss: 0.3621 - acc: 1.0000 - val_loss: 0.5972 - val_acc: 0.8571\n",
      "Epoch 27/50\n",
      "182/182 [==============================] - 1s 8ms/step - loss: 0.3523 - acc: 1.0000 - val_loss: 0.5879 - val_acc: 0.9048\n",
      "Epoch 28/50\n",
      "182/182 [==============================] - 1s 8ms/step - loss: 0.3460 - acc: 1.0000 - val_loss: 0.5894 - val_acc: 0.9524\n",
      "Epoch 29/50\n",
      "182/182 [==============================] - 1s 8ms/step - loss: 0.3408 - acc: 1.0000 - val_loss: 0.5956 - val_acc: 0.8571\n",
      "Epoch 30/50\n",
      "182/182 [==============================] - 1s 8ms/step - loss: 0.3340 - acc: 1.0000 - val_loss: 0.6004 - val_acc: 0.8571\n",
      "Epoch 31/50\n",
      "182/182 [==============================] - 1s 8ms/step - loss: 0.3278 - acc: 1.0000 - val_loss: 0.6006 - val_acc: 0.8571\n",
      "Epoch 32/50\n",
      "182/182 [==============================] - 1s 8ms/step - loss: 0.3252 - acc: 1.0000 - val_loss: 0.5943 - val_acc: 0.8571\n",
      "Epoch 33/50\n",
      "182/182 [==============================] - 1s 8ms/step - loss: 0.3241 - acc: 1.0000 - val_loss: 0.5830 - val_acc: 0.9048\n",
      "Epoch 34/50\n",
      "182/182 [==============================] - 2s 8ms/step - loss: 0.3211 - acc: 1.0000 - val_loss: 0.5688 - val_acc: 0.9524\n",
      "Epoch 35/50\n",
      "182/182 [==============================] - 1s 8ms/step - loss: 0.3167 - acc: 1.0000 - val_loss: 0.5554 - val_acc: 0.9524\n",
      "Epoch 36/50\n",
      "182/182 [==============================] - 1s 8ms/step - loss: 0.3134 - acc: 1.0000 - val_loss: 0.5458 - val_acc: 0.9524\n",
      "Epoch 37/50\n",
      "182/182 [==============================] - 1s 8ms/step - loss: 0.3121 - acc: 1.0000 - val_loss: 0.5391 - val_acc: 0.9524\n",
      "Epoch 38/50\n",
      "182/182 [==============================] - 1s 8ms/step - loss: 0.3106 - acc: 1.0000 - val_loss: 0.5348 - val_acc: 0.9524\n",
      "Epoch 39/50\n",
      "182/182 [==============================] - 1s 8ms/step - loss: 0.3078 - acc: 1.0000 - val_loss: 0.5330 - val_acc: 0.9048\n",
      "Epoch 40/50\n",
      "182/182 [==============================] - 2s 8ms/step - loss: 0.3049 - acc: 1.0000 - val_loss: 0.5333 - val_acc: 0.9048\n",
      "Epoch 41/50\n",
      "182/182 [==============================] - 2s 8ms/step - loss: 0.3036 - acc: 1.0000 - val_loss: 0.5335 - val_acc: 0.9048\n",
      "Epoch 42/50\n",
      "182/182 [==============================] - 1s 8ms/step - loss: 0.3032 - acc: 1.0000 - val_loss: 0.5281 - val_acc: 0.9048\n",
      "Epoch 43/50\n",
      "182/182 [==============================] - 1s 8ms/step - loss: 0.3020 - acc: 1.0000 - val_loss: 0.5177 - val_acc: 0.9048\n",
      "Epoch 44/50\n",
      "182/182 [==============================] - 1s 8ms/step - loss: 0.2998 - acc: 1.0000 - val_loss: 0.5055 - val_acc: 0.9524\n",
      "Epoch 45/50\n",
      "182/182 [==============================] - 1s 8ms/step - loss: 0.2980 - acc: 1.0000 - val_loss: 0.4949 - val_acc: 0.9524\n",
      "Epoch 46/50\n",
      "182/182 [==============================] - 1s 8ms/step - loss: 0.2971 - acc: 1.0000 - val_loss: 0.4876 - val_acc: 0.9524\n",
      "Epoch 47/50\n",
      "182/182 [==============================] - 2s 8ms/step - loss: 0.2964 - acc: 1.0000 - val_loss: 0.4840 - val_acc: 0.9524\n",
      "Epoch 48/50\n",
      "182/182 [==============================] - 1s 8ms/step - loss: 0.2953 - acc: 1.0000 - val_loss: 0.4839 - val_acc: 0.9524\n",
      "Epoch 49/50\n",
      "182/182 [==============================] - 2s 8ms/step - loss: 0.2942 - acc: 1.0000 - val_loss: 0.4861 - val_acc: 0.9524\n",
      "Epoch 50/50\n",
      "182/182 [==============================] - 1s 8ms/step - loss: 0.2935 - acc: 1.0000 - val_loss: 0.4888 - val_acc: 0.9524\n",
      "100/100 [==============================] - 1s 7ms/step\n"
     ]
    }
   ],
   "source": [
    "\n",
    "acc=[]\n",
    "for i in range(2):\n",
    "    X_train, X_test, y_train, y_test = train_test_split(Total_data_X, Total_data_Y, test_size=0.33)\n",
    "    X_train=np.array(X_train)\n",
    "    y_train=np.array(y_train)\n",
    "    x_train = X_train.reshape(X_train.shape[0], 121, 145, 121)\n",
    "\n",
    "    input_shape = (121, 145, 121)\n",
    "    x_train = x_train.astype('float32')\n",
    "    y_train = keras.utils.to_categorical(y_train)\n",
    "    y_old_test=y_test\n",
    "    y_test = keras.utils.to_categorical(y_test)\n",
    "    def discriminator_model():\n",
    "        # After publishing the research I will make it online.\n",
    "        return model\n",
    "    model=discriminator_model()\n",
    "    #print(model.summary())\n",
    "    model.compile(keras.optimizers.Adam(lr=1e-5), 'categorical_crossentropy', metrics=['accuracy'])\n",
    "    history=model.fit(x=x_train,y=y_train,batch_size=200, epochs=50,validation_split=0.1)\n",
    "    X_test=np.array(X_test)\n",
    "    x_test = X_test.reshape(X_test.shape[0], 121, 145,121)\n",
    "    x_test = x_test.astype('float32')\n",
    "\n",
    "    acc.append(model.evaluate(x_test,y_test))"
   ]
  },
  {
   "cell_type": "code",
   "execution_count": 12,
   "metadata": {},
   "outputs": [],
   "source": [
    "newc=np.array(acc).T"
   ]
  },
  {
   "cell_type": "code",
   "execution_count": 13,
   "metadata": {},
   "outputs": [
    {
     "data": {
      "text/plain": [
       "0.9550000000000001"
      ]
     },
     "execution_count": 13,
     "metadata": {},
     "output_type": "execute_result"
    }
   ],
   "source": [
    "newc[1].mean()"
   ]
  },
  {
   "cell_type": "markdown",
   "metadata": {},
   "source": [
    "#### I fixed batch size and epoch  1000, 50 respectively and the entire model is repated 50 times then I got the prediction accuracy on an average  0.958399 on testing data  "
   ]
  },
  {
   "cell_type": "code",
   "execution_count": 14,
   "metadata": {},
   "outputs": [
    {
     "data": {
      "text/plain": [
       "Text(0, 0.5, 'Accuracy')"
      ]
     },
     "execution_count": 14,
     "metadata": {},
     "output_type": "execute_result"
    },
    {
     "data": {
      "image/png": "[encoded data removed]",
      "text/plain": [
       "<Figure size 432x288 with 1 Axes>"
      ]
     },
     "metadata": {
      "needs_background": "light"
     },
     "output_type": "display_data"
    }
   ],
   "source": [
    "plt.plot(history.history['acc'])\n",
    "plt.plot(history.history['val_acc'])\n",
    "plt.legend(['Training accuracy' ,'Validation Accuracy'])\n",
    "plt.title(\"Train Vs Validation ACC Proposed model\")\n",
    "plt.xlabel(\"# of Epoch\")\n",
    "plt.ylabel(\"Accuracy\")"
   ]
  },
  {
   "cell_type": "code",
   "execution_count": 15,
   "metadata": {},
   "outputs": [],
   "source": [
    "y_pred=model.predict_classes(x_test)"
   ]
  },
  {
   "cell_type": "code",
   "execution_count": 38,
   "metadata": {},
   "outputs": [],
   "source": [
    "y_test_old=np.array(y_old_test)"
   ]
  },
  {
   "cell_type": "code",
   "execution_count": 39,
   "metadata": {},
   "outputs": [
    {
     "data": {
      "image/png": "[encoded data removed]",
      "text/plain": [
       "<Figure size 396x288 with 2 Axes>"
      ]
     },
     "metadata": {
      "needs_background": "light"
     },
     "output_type": "display_data"
    }
   ],
   "source": [
    "import pandas as pd\n",
    "import seaborn as sns\n",
    "from matplotlib import pyplot as plt\n",
    "from sklearn.metrics import accuracy_score, confusion_matrix, precision_recall_fscore_support\n",
    "cm = confusion_matrix(y_test_old, y_pred)\n",
    "\n",
    "cm_df = pd.DataFrame(cm,\n",
    "                     index = ['NC','MCI','AD'], \n",
    "                     columns = ['NC','MCI','AD'])\n",
    "\n",
    "plt.figure(figsize=(5.5,4))\n",
    "sns.heatmap(cm_df, annot=True)\n",
    "plt.title('CNN \\nAccuracy:{0:.3f}'.format(accuracy_score(y_test_old, y_pred)))\n",
    "plt.ylabel('True label')\n",
    "plt.xlabel('Predicted label')\n",
    "plt.show()"
   ]
  }
 ],
 "metadata": {
  "kernelspec": {
   "display_name": "Python 3",
   "language": "python",
   "name": "python3"
  },
  "language_info": {
   "codemirror_mode": {
    "name": "ipython",
    "version": 3
   },
   "file_extension": ".py",
   "mimetype": "text/x-python",
   "name": "python",
   "nbconvert_exporter": "python",
   "pygments_lexer": "ipython3",
   "version": "3.5.2"
  }
 },
 "nbformat": 4,
 "nbformat_minor": 2
}
