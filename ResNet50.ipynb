{
 "cells": [
  {
   "cell_type": "markdown",
   "metadata": {},
   "source": [
    "#### Import nibabel package to read NIfTI images"
   ]
  },
  {
   "cell_type": "code",
   "execution_count": 2,
   "metadata": {},
   "outputs": [],
   "source": [
    "from nibabel.testing import data_path\n",
    "import numpy as np\n",
    "import tensorflow as tf\n",
    "from keras import applications\n",
    "import nibabel as nib\n",
    "import keras"
   ]
  },
  {
   "cell_type": "markdown",
   "metadata": {},
   "source": [
    "#### Enable GPU "
   ]
  },
  {
   "cell_type": "code",
   "execution_count": 2,
   "metadata": {},
   "outputs": [],
   "source": [
    "config = tf.ConfigProto( device_count = {'GPU': 1 , 'CPU': 56} ) \n",
    "sess = tf.Session(config=config) \n",
    "keras.backend.set_session(sess)\n"
   ]
  },
  {
   "cell_type": "markdown",
   "metadata": {},
   "source": [
    "#### Check the GPU "
   ]
  },
  {
   "cell_type": "code",
   "execution_count": 3,
   "metadata": {},
   "outputs": [
    {
     "name": "stdout",
     "output_type": "stream",
     "text": [
      "[name: \"/device:CPU:0\"\n",
      "device_type: \"CPU\"\n",
      "memory_limit: 268435456\n",
      "locality {\n",
      "}\n",
      "incarnation: 2403825222157431229\n",
      ", name: \"/device:XLA_GPU:0\"\n",
      "device_type: \"XLA_GPU\"\n",
      "memory_limit: 17179869184\n",
      "locality {\n",
      "}\n",
      "incarnation: 9104771758140632175\n",
      "physical_device_desc: \"device: XLA_GPU device\"\n",
      ", name: \"/device:XLA_CPU:0\"\n",
      "device_type: \"XLA_CPU\"\n",
      "memory_limit: 17179869184\n",
      "locality {\n",
      "}\n",
      "incarnation: 2142168042465693342\n",
      "physical_device_desc: \"device: XLA_CPU device\"\n",
      ", name: \"/device:GPU:0\"\n",
      "device_type: \"GPU\"\n",
      "memory_limit: 11558980813\n",
      "locality {\n",
      "  bus_id: 1\n",
      "  links {\n",
      "  }\n",
      "}\n",
      "incarnation: 14265821299850896445\n",
      "physical_device_desc: \"device: 0, name: TITAN Xp, pci bus id: 0000:01:00.0, compute capability: 6.1\"\n",
      "]\n"
     ]
    }
   ],
   "source": [
    "from tensorflow.python.client import device_lib \n",
    "print(device_lib.list_local_devices())"
   ]
  },
  {
   "cell_type": "markdown",
   "metadata": {},
   "source": [
    "#### Import all the keras required library"
   ]
  },
  {
   "cell_type": "code",
   "execution_count": 4,
   "metadata": {},
   "outputs": [],
   "source": [
    "import matplotlib.pyplot as plt\n",
    "import glob\n",
    "from keras.losses import categorical_crossentropy\n",
    "from keras.models import Sequential, Model \n",
    "from keras.layers import Dense, Conv2D, Dropout, Flatten, MaxPooling2D\n",
    "from keras import layers\n",
    "\n",
    "from sklearn.model_selection import train_test_split"
   ]
  },
  {
   "cell_type": "markdown",
   "metadata": {},
   "source": [
    "#### Fatch all the preprocessed images from the folder, preprocessing is done in SPM (matlab)"
   ]
  },
  {
   "cell_type": "code",
   "execution_count": 5,
   "metadata": {},
   "outputs": [],
   "source": [
    "Adni_normal_6_months=glob.glob('/home/kushpal/Kushpal/ADNI_Normal/Normal-m06-3.0T(27)/[0-9]*/*/*/*/w*')\n",
    "Adni_normal_12_months=glob.glob('/home/kushpal/Kushpal/ADNI_Normal/Normal-m12-3.0T(27)/[0-9]*/*/*/*/w*')\n",
    "Adni_normal_24_months=glob.glob('/home/kushpal/Kushpal/ADNI_Normal/Normal-m24-3.0T(27)/[0-9]*/*/*/*/w*')\n",
    "Adni_normal_36_months=glob.glob('/home/kushpal/Kushpal/ADNI_Normal/Normal-m36-3.0T(27)/[0-9]*/*/*/*/w*')\n",
    "\n",
    "Mci_bl_3_months=glob.glob('/home/kushpal/Kushpal/MCI/MCI-bl-3.0T (22)/[0-9]*/*/*/*/w*')\n",
    "Mci_6_months=glob.glob('/home/kushpal/Kushpal/MCI/MCI-m06-3.0T (22)/[0-9]*/*/*/*/w*')\n",
    "Mci_12_months=glob.glob('/home/kushpal/Kushpal/MCI/MCI-m12-3.0T (22)/[0-9]*/*/*/*/w*')\n",
    "Mci_24_months=glob.glob('/home/kushpal/Kushpal/MCI/MCI-m24-3.0T (22)/[0-9]*/*/*/*/w*')\n",
    "Mci_36_months=glob.glob('/home/kushpal/Kushpal/MCI/MCI-m36-3.0T (22)/[0-9]*/*/*/*/w*')\n",
    "\n",
    "Ad_bl_3_months=glob.glob('/home/kushpal/Kushpal/AD-bl-3.0T(22)/[0-9]*/*/*/*/w*')\n",
    "Ad_6_months=glob.glob('/home/kushpal/Kushpal/AD-m06-3.0T(22)/[0-9]*/*/*/*/w*')\n",
    "Ad_12_months=glob.glob('/home/kushpal/Kushpal/AD-m12-3.0T(22)/[0-9]*/*/*/*/w*')\n",
    "Ad_24_months=glob.glob('/home/kushpal/Kushpal/AD-m24-3.0T(22)/[0-9]*/*/*/*/w*')\n"
   ]
  },
  {
   "cell_type": "markdown",
   "metadata": {},
   "source": [
    "#### Label all the images with corresponding categories (0, 1,2), 0 = CN, 1 = MCI, 2 = AD."
   ]
  },
  {
   "cell_type": "code",
   "execution_count": 6,
   "metadata": {},
   "outputs": [],
   "source": [
    "Adni_normal_image_X=[]\n",
    "Adni_normal_image_Y=[]\n",
    "for i in range(len(Adni_normal_6_months)):\n",
    "    newimg = nib.load(Adni_normal_6_months[i])\n",
    "    data = newimg.get_data()\n",
    "    Adni_normal_image_X.append(data)\n",
    "    Adni_normal_image_Y.append(0)\n",
    "for i in range(len(Adni_normal_12_months)):\n",
    "    newimg = nib.load(Adni_normal_12_months[i])\n",
    "    data = newimg.get_data()\n",
    "    Adni_normal_image_X.append(data)\n",
    "    Adni_normal_image_Y.append(0)\n",
    "    \n",
    "for i in range(len(Adni_normal_24_months)):\n",
    "    newimg = nib.load(Adni_normal_24_months[i])\n",
    "    data = newimg.get_data()\n",
    "    Adni_normal_image_X.append(data)\n",
    "    Adni_normal_image_Y.append(0)\n",
    "for i in range(len(Adni_normal_36_months)):\n",
    "    newimg = nib.load(Adni_normal_36_months[i])\n",
    "    data = newimg.get_data()\n",
    "    Adni_normal_image_X.append(data)\n",
    "    Adni_normal_image_Y.append(0)\n",
    "\n",
    "\n",
    "Mci_image_X=[]\n",
    "Mci_image_Y=[]\n",
    "for i in range(len(Mci_bl_3_months)):\n",
    "    newimg = nib.load(Mci_bl_3_months[i])\n",
    "    data = newimg.get_data()\n",
    "    Mci_image_X.append(data)\n",
    "    Mci_image_Y.append(1)\n",
    "for i in range(len(Mci_6_months)):\n",
    "    newimg = nib.load(Mci_6_months[i])\n",
    "    data = newimg.get_data()\n",
    "    Mci_image_X.append(data)\n",
    "    Mci_image_Y.append(1)\n",
    "for i in range(len(Mci_12_months)):\n",
    "    newimg = nib.load(Mci_12_months[i])\n",
    "    data = newimg.get_data()\n",
    "    Mci_image_X.append(data)\n",
    "    Mci_image_Y.append(1)\n",
    "    \n",
    "for i in range(len(Mci_24_months)):\n",
    "    newimg = nib.load(Mci_24_months[i])\n",
    "    data = newimg.get_data()\n",
    "    Mci_image_X.append(data)\n",
    "    Mci_image_Y.append(1)\n",
    "    \n",
    "for i in range(len(Mci_36_months)):\n",
    "    newimg = nib.load(Mci_36_months[i])\n",
    "    data = newimg.get_data()\n",
    "    Mci_image_X.append(data)\n",
    "    Mci_image_Y.append(1)\n",
    "\n",
    "\n",
    "Ad_image_X=[]\n",
    "Ad_image_Y=[]\n",
    "for i in range(len(Ad_bl_3_months)):\n",
    "    newimg = nib.load(Ad_bl_3_months[i])\n",
    "    data = newimg.get_data()\n",
    "    Ad_image_X.append(data)\n",
    "    Ad_image_Y.append(2)\n",
    "for i in range(len(Ad_6_months)):\n",
    "    newimg = nib.load(Ad_6_months[i])\n",
    "    data = newimg.get_data()\n",
    "    Ad_image_X.append(data)\n",
    "    Ad_image_Y.append(2)\n",
    "for i in range(len(Ad_12_months)):\n",
    "    newimg = nib.load(Ad_12_months[i])\n",
    "    data = newimg.get_data()\n",
    "    Ad_image_X.append(data)\n",
    "    Ad_image_Y.append(2)\n",
    "    \n",
    "for i in range(len(Ad_24_months)):\n",
    "    newimg = nib.load(Ad_24_months[i])\n",
    "    data = newimg.get_data()\n",
    "    Ad_image_X.append(data)\n",
    "    Ad_image_Y.append(2)"
   ]
  },
  {
   "cell_type": "code",
   "execution_count": 7,
   "metadata": {},
   "outputs": [],
   "source": [
    "Total_data_X=[]\n",
    "Total_data_Y=[]\n",
    "for i in range(len(Adni_normal_image_X)):\n",
    "    Total_data_X.append(Adni_normal_image_X[i])\n",
    "    Total_data_Y.append(Adni_normal_image_Y[i])\n",
    "for i in range(len(Mci_image_X)):\n",
    "    Total_data_X.append(Mci_image_X[i])\n",
    "    Total_data_Y.append(Mci_image_Y[i])\n",
    "for i in range(len(Ad_image_X)):\n",
    "    Total_data_X.append(Ad_image_X[i])\n",
    "    Total_data_Y.append(Ad_image_Y[i])"
   ]
  },
  {
   "cell_type": "markdown",
   "metadata": {},
   "source": [
    "#### Total no of 3D images (303 X 121 X 145 X 121)"
   ]
  },
  {
   "cell_type": "code",
   "execution_count": 8,
   "metadata": {},
   "outputs": [
    {
     "data": {
      "text/plain": [
       "303"
      ]
     },
     "execution_count": 8,
     "metadata": {},
     "output_type": "execute_result"
    }
   ],
   "source": [
    "len(Total_data_X)"
   ]
  },
  {
   "cell_type": "markdown",
   "metadata": {},
   "source": [
    "#### Data Conversion from 3D to 2D and introduce 3 channels (RGB) because the predefined model always takes 2D images with 3 channels in Keras."
   ]
  },
  {
   "cell_type": "code",
   "execution_count": 9,
   "metadata": {},
   "outputs": [],
   "source": [
    "Newdata=np.array(Total_data_X)\n",
    "maindata=np.stack([Newdata]*3, axis=-1)\n",
    "\n",
    "maindata=maindata.reshape(303*121,145,121,3)"
   ]
  },
  {
   "cell_type": "markdown",
   "metadata": {},
   "source": [
    "#### Label all the converted images with their corresponding category."
   ]
  },
  {
   "cell_type": "code",
   "execution_count": 10,
   "metadata": {},
   "outputs": [],
   "source": [
    "new_y=[]\n",
    "for i in range (len(Total_data_X)):\n",
    "    for j in range(121):\n",
    "        new_y.append(Total_data_Y[i])\n",
    "new_y=np.array(new_y)"
   ]
  },
  {
   "cell_type": "markdown",
   "metadata": {},
   "source": [
    "#### After the conversion of  3D images, total no of 2D images"
   ]
  },
  {
   "cell_type": "code",
   "execution_count": 11,
   "metadata": {},
   "outputs": [
    {
     "data": {
      "text/plain": [
       "((36663, 145, 121, 3), (36663,))"
      ]
     },
     "execution_count": 11,
     "metadata": {},
     "output_type": "execute_result"
    }
   ],
   "source": [
    "maindata.shape,new_y.shape"
   ]
  },
  {
   "cell_type": "markdown",
   "metadata": {},
   "source": [
    "#### Split the data into train and test in the 70:30 ratio."
   ]
  },
  {
   "cell_type": "code",
   "execution_count": 12,
   "metadata": {},
   "outputs": [],
   "source": [
    "\n",
    "X_train, X_test, y_train, y_test = train_test_split(maindata, new_y, test_size=0.33)\n",
    "X_train=np.array(X_train)\n",
    "y_train=np.array(y_train)\n",
    "x_train = X_train.reshape(X_train.shape[0], 145, 121, 3)\n",
    "\n",
    "input_shape = (145, 121,3)\n",
    "x_train = x_train.astype('float32')\n",
    "y_train = keras.utils.to_categorical(y_train)\n",
    "y_old_test=y_test\n",
    "y_test = keras.utils.to_categorical(y_test)\n"
   ]
  },
  {
   "cell_type": "markdown",
   "metadata": {},
   "source": [
    "#### Use the ResNet50 model. "
   ]
  },
  {
   "cell_type": "code",
   "execution_count": 13,
   "metadata": {},
   "outputs": [
    {
     "name": "stdout",
     "output_type": "stream",
     "text": [
      "WARNING:tensorflow:From /home/kushpal/.local/lib/python3.5/site-packages/tensorflow/python/framework/op_def_library.py:263: colocate_with (from tensorflow.python.framework.ops) is deprecated and will be removed in a future version.\n",
      "Instructions for updating:\n",
      "Colocations handled automatically by placer.\n"
     ]
    },
    {
     "name": "stderr",
     "output_type": "stream",
     "text": [
      "/home/kushpal/.local/lib/python3.5/site-packages/keras_applications/resnet50.py:265: UserWarning: The output shape of `ResNet50(include_top=False)` has been changed since Keras 2.2.0.\n",
      "  warnings.warn('The output shape of `ResNet50(include_top=False)` '\n",
      "/home/kushpal/.local/lib/python3.5/site-packages/ipykernel_launcher.py:12: UserWarning: Update your `Model` call to the Keras 2 API: `Model(inputs=Tensor(\"in..., outputs=Tensor(\"de...)`\n",
      "  if sys.path[0] == '':\n"
     ]
    }
   ],
   "source": [
    "\n",
    "model = applications.ResNet50(weights = \"imagenet\", include_top=False, input_shape =input_shape)\n",
    "\n",
    "\n",
    "# Freeze the layers which you don't want to train. Here I am not freezing any layer.\n",
    "for layer in model.layers:\n",
    "    layer.trainable = True\n",
    "#Adding custom Layers \n",
    "x = model.output\n",
    "x = Flatten()(x)\n",
    "x = Dense(128, activation=\"relu\")(x)\n",
    "predictions = Dense(3, activation=\"softmax\")(x)\n",
    "model= Model(input = model.input, output = predictions)"
   ]
  },
  {
   "cell_type": "code",
   "execution_count": 14,
   "metadata": {},
   "outputs": [
    {
     "name": "stdout",
     "output_type": "stream",
     "text": [
      "Model: \"model_1\"\n",
      "__________________________________________________________________________________________________\n",
      "Layer (type)                    Output Shape         Param #     Connected to                     \n",
      "==================================================================================================\n",
      "input_1 (InputLayer)            (None, 145, 121, 3)  0                                            \n",
      "__________________________________________________________________________________________________\n",
      "conv1_pad (ZeroPadding2D)       (None, 151, 127, 3)  0           input_1[0][0]                    \n",
      "__________________________________________________________________________________________________\n",
      "conv1 (Conv2D)                  (None, 73, 61, 64)   9472        conv1_pad[0][0]                  \n",
      "__________________________________________________________________________________________________\n",
      "bn_conv1 (BatchNormalization)   (None, 73, 61, 64)   256         conv1[0][0]                      \n",
      "__________________________________________________________________________________________________\n",
      "activation_1 (Activation)       (None, 73, 61, 64)   0           bn_conv1[0][0]                   \n",
      "__________________________________________________________________________________________________\n",
      "pool1_pad (ZeroPadding2D)       (None, 75, 63, 64)   0           activation_1[0][0]               \n",
      "__________________________________________________________________________________________________\n",
      "max_pooling2d_1 (MaxPooling2D)  (None, 37, 31, 64)   0           pool1_pad[0][0]                  \n",
      "__________________________________________________________________________________________________\n",
      "res2a_branch2a (Conv2D)         (None, 37, 31, 64)   4160        max_pooling2d_1[0][0]            \n",
      "__________________________________________________________________________________________________\n",
      "bn2a_branch2a (BatchNormalizati (None, 37, 31, 64)   256         res2a_branch2a[0][0]             \n",
      "__________________________________________________________________________________________________\n",
      "activation_2 (Activation)       (None, 37, 31, 64)   0           bn2a_branch2a[0][0]              \n",
      "__________________________________________________________________________________________________\n",
      "res2a_branch2b (Conv2D)         (None, 37, 31, 64)   36928       activation_2[0][0]               \n",
      "__________________________________________________________________________________________________\n",
      "bn2a_branch2b (BatchNormalizati (None, 37, 31, 64)   256         res2a_branch2b[0][0]             \n",
      "__________________________________________________________________________________________________\n",
      "activation_3 (Activation)       (None, 37, 31, 64)   0           bn2a_branch2b[0][0]              \n",
      "__________________________________________________________________________________________________\n",
      "res2a_branch2c (Conv2D)         (None, 37, 31, 256)  16640       activation_3[0][0]               \n",
      "__________________________________________________________________________________________________\n",
      "res2a_branch1 (Conv2D)          (None, 37, 31, 256)  16640       max_pooling2d_1[0][0]            \n",
      "__________________________________________________________________________________________________\n",
      "bn2a_branch2c (BatchNormalizati (None, 37, 31, 256)  1024        res2a_branch2c[0][0]             \n",
      "__________________________________________________________________________________________________\n",
      "bn2a_branch1 (BatchNormalizatio (None, 37, 31, 256)  1024        res2a_branch1[0][0]              \n",
      "__________________________________________________________________________________________________\n",
      "add_1 (Add)                     (None, 37, 31, 256)  0           bn2a_branch2c[0][0]              \n",
      "                                                                 bn2a_branch1[0][0]               \n",
      "__________________________________________________________________________________________________\n",
      "activation_4 (Activation)       (None, 37, 31, 256)  0           add_1[0][0]                      \n",
      "__________________________________________________________________________________________________\n",
      "res2b_branch2a (Conv2D)         (None, 37, 31, 64)   16448       activation_4[0][0]               \n",
      "__________________________________________________________________________________________________\n",
      "bn2b_branch2a (BatchNormalizati (None, 37, 31, 64)   256         res2b_branch2a[0][0]             \n",
      "__________________________________________________________________________________________________\n",
      "activation_5 (Activation)       (None, 37, 31, 64)   0           bn2b_branch2a[0][0]              \n",
      "__________________________________________________________________________________________________\n",
      "res2b_branch2b (Conv2D)         (None, 37, 31, 64)   36928       activation_5[0][0]               \n",
      "__________________________________________________________________________________________________\n",
      "bn2b_branch2b (BatchNormalizati (None, 37, 31, 64)   256         res2b_branch2b[0][0]             \n",
      "__________________________________________________________________________________________________\n",
      "activation_6 (Activation)       (None, 37, 31, 64)   0           bn2b_branch2b[0][0]              \n",
      "__________________________________________________________________________________________________\n",
      "res2b_branch2c (Conv2D)         (None, 37, 31, 256)  16640       activation_6[0][0]               \n",
      "__________________________________________________________________________________________________\n",
      "bn2b_branch2c (BatchNormalizati (None, 37, 31, 256)  1024        res2b_branch2c[0][0]             \n",
      "__________________________________________________________________________________________________\n",
      "add_2 (Add)                     (None, 37, 31, 256)  0           bn2b_branch2c[0][0]              \n",
      "                                                                 activation_4[0][0]               \n",
      "__________________________________________________________________________________________________\n",
      "activation_7 (Activation)       (None, 37, 31, 256)  0           add_2[0][0]                      \n",
      "__________________________________________________________________________________________________\n",
      "res2c_branch2a (Conv2D)         (None, 37, 31, 64)   16448       activation_7[0][0]               \n",
      "__________________________________________________________________________________________________\n",
      "bn2c_branch2a (BatchNormalizati (None, 37, 31, 64)   256         res2c_branch2a[0][0]             \n",
      "__________________________________________________________________________________________________\n",
      "activation_8 (Activation)       (None, 37, 31, 64)   0           bn2c_branch2a[0][0]              \n",
      "__________________________________________________________________________________________________\n",
      "res2c_branch2b (Conv2D)         (None, 37, 31, 64)   36928       activation_8[0][0]               \n",
      "__________________________________________________________________________________________________\n",
      "bn2c_branch2b (BatchNormalizati (None, 37, 31, 64)   256         res2c_branch2b[0][0]             \n",
      "__________________________________________________________________________________________________\n",
      "activation_9 (Activation)       (None, 37, 31, 64)   0           bn2c_branch2b[0][0]              \n",
      "__________________________________________________________________________________________________\n",
      "res2c_branch2c (Conv2D)         (None, 37, 31, 256)  16640       activation_9[0][0]               \n",
      "__________________________________________________________________________________________________\n",
      "bn2c_branch2c (BatchNormalizati (None, 37, 31, 256)  1024        res2c_branch2c[0][0]             \n",
      "__________________________________________________________________________________________________\n",
      "add_3 (Add)                     (None, 37, 31, 256)  0           bn2c_branch2c[0][0]              \n",
      "                                                                 activation_7[0][0]               \n",
      "__________________________________________________________________________________________________\n",
      "activation_10 (Activation)      (None, 37, 31, 256)  0           add_3[0][0]                      \n",
      "__________________________________________________________________________________________________\n",
      "res3a_branch2a (Conv2D)         (None, 19, 16, 128)  32896       activation_10[0][0]              \n",
      "__________________________________________________________________________________________________\n",
      "bn3a_branch2a (BatchNormalizati (None, 19, 16, 128)  512         res3a_branch2a[0][0]             \n",
      "__________________________________________________________________________________________________\n",
      "activation_11 (Activation)      (None, 19, 16, 128)  0           bn3a_branch2a[0][0]              \n",
      "__________________________________________________________________________________________________\n",
      "res3a_branch2b (Conv2D)         (None, 19, 16, 128)  147584      activation_11[0][0]              \n",
      "__________________________________________________________________________________________________\n",
      "bn3a_branch2b (BatchNormalizati (None, 19, 16, 128)  512         res3a_branch2b[0][0]             \n",
      "__________________________________________________________________________________________________\n",
      "activation_12 (Activation)      (None, 19, 16, 128)  0           bn3a_branch2b[0][0]              \n",
      "__________________________________________________________________________________________________\n",
      "res3a_branch2c (Conv2D)         (None, 19, 16, 512)  66048       activation_12[0][0]              \n",
      "__________________________________________________________________________________________________\n",
      "res3a_branch1 (Conv2D)          (None, 19, 16, 512)  131584      activation_10[0][0]              \n",
      "__________________________________________________________________________________________________\n",
      "bn3a_branch2c (BatchNormalizati (None, 19, 16, 512)  2048        res3a_branch2c[0][0]             \n",
      "__________________________________________________________________________________________________\n",
      "bn3a_branch1 (BatchNormalizatio (None, 19, 16, 512)  2048        res3a_branch1[0][0]              \n",
      "__________________________________________________________________________________________________\n",
      "add_4 (Add)                     (None, 19, 16, 512)  0           bn3a_branch2c[0][0]              \n",
      "                                                                 bn3a_branch1[0][0]               \n",
      "__________________________________________________________________________________________________\n",
      "activation_13 (Activation)      (None, 19, 16, 512)  0           add_4[0][0]                      \n",
      "__________________________________________________________________________________________________\n",
      "res3b_branch2a (Conv2D)         (None, 19, 16, 128)  65664       activation_13[0][0]              \n",
      "__________________________________________________________________________________________________\n",
      "bn3b_branch2a (BatchNormalizati (None, 19, 16, 128)  512         res3b_branch2a[0][0]             \n",
      "__________________________________________________________________________________________________\n",
      "activation_14 (Activation)      (None, 19, 16, 128)  0           bn3b_branch2a[0][0]              \n",
      "__________________________________________________________________________________________________\n",
      "res3b_branch2b (Conv2D)         (None, 19, 16, 128)  147584      activation_14[0][0]              \n",
      "__________________________________________________________________________________________________\n",
      "bn3b_branch2b (BatchNormalizati (None, 19, 16, 128)  512         res3b_branch2b[0][0]             \n",
      "__________________________________________________________________________________________________\n",
      "activation_15 (Activation)      (None, 19, 16, 128)  0           bn3b_branch2b[0][0]              \n",
      "__________________________________________________________________________________________________\n",
      "res3b_branch2c (Conv2D)         (None, 19, 16, 512)  66048       activation_15[0][0]              \n",
      "__________________________________________________________________________________________________\n",
      "bn3b_branch2c (BatchNormalizati (None, 19, 16, 512)  2048        res3b_branch2c[0][0]             \n",
      "__________________________________________________________________________________________________\n",
      "add_5 (Add)                     (None, 19, 16, 512)  0           bn3b_branch2c[0][0]              \n",
      "                                                                 activation_13[0][0]              \n",
      "__________________________________________________________________________________________________\n",
      "activation_16 (Activation)      (None, 19, 16, 512)  0           add_5[0][0]                      \n",
      "__________________________________________________________________________________________________\n",
      "res3c_branch2a (Conv2D)         (None, 19, 16, 128)  65664       activation_16[0][0]              \n",
      "__________________________________________________________________________________________________\n",
      "bn3c_branch2a (BatchNormalizati (None, 19, 16, 128)  512         res3c_branch2a[0][0]             \n",
      "__________________________________________________________________________________________________\n",
      "activation_17 (Activation)      (None, 19, 16, 128)  0           bn3c_branch2a[0][0]              \n",
      "__________________________________________________________________________________________________\n",
      "res3c_branch2b (Conv2D)         (None, 19, 16, 128)  147584      activation_17[0][0]              \n",
      "__________________________________________________________________________________________________\n",
      "bn3c_branch2b (BatchNormalizati (None, 19, 16, 128)  512         res3c_branch2b[0][0]             \n",
      "__________________________________________________________________________________________________\n",
      "activation_18 (Activation)      (None, 19, 16, 128)  0           bn3c_branch2b[0][0]              \n",
      "__________________________________________________________________________________________________\n",
      "res3c_branch2c (Conv2D)         (None, 19, 16, 512)  66048       activation_18[0][0]              \n",
      "__________________________________________________________________________________________________\n",
      "bn3c_branch2c (BatchNormalizati (None, 19, 16, 512)  2048        res3c_branch2c[0][0]             \n",
      "__________________________________________________________________________________________________\n",
      "add_6 (Add)                     (None, 19, 16, 512)  0           bn3c_branch2c[0][0]              \n",
      "                                                                 activation_16[0][0]              \n",
      "__________________________________________________________________________________________________\n",
      "activation_19 (Activation)      (None, 19, 16, 512)  0           add_6[0][0]                      \n",
      "__________________________________________________________________________________________________\n",
      "res3d_branch2a (Conv2D)         (None, 19, 16, 128)  65664       activation_19[0][0]              \n",
      "__________________________________________________________________________________________________\n",
      "bn3d_branch2a (BatchNormalizati (None, 19, 16, 128)  512         res3d_branch2a[0][0]             \n",
      "__________________________________________________________________________________________________\n",
      "activation_20 (Activation)      (None, 19, 16, 128)  0           bn3d_branch2a[0][0]              \n",
      "__________________________________________________________________________________________________\n",
      "res3d_branch2b (Conv2D)         (None, 19, 16, 128)  147584      activation_20[0][0]              \n",
      "__________________________________________________________________________________________________\n",
      "bn3d_branch2b (BatchNormalizati (None, 19, 16, 128)  512         res3d_branch2b[0][0]             \n",
      "__________________________________________________________________________________________________\n",
      "activation_21 (Activation)      (None, 19, 16, 128)  0           bn3d_branch2b[0][0]              \n",
      "__________________________________________________________________________________________________\n",
      "res3d_branch2c (Conv2D)         (None, 19, 16, 512)  66048       activation_21[0][0]              \n",
      "__________________________________________________________________________________________________\n",
      "bn3d_branch2c (BatchNormalizati (None, 19, 16, 512)  2048        res3d_branch2c[0][0]             \n",
      "__________________________________________________________________________________________________\n",
      "add_7 (Add)                     (None, 19, 16, 512)  0           bn3d_branch2c[0][0]              \n",
      "                                                                 activation_19[0][0]              \n",
      "__________________________________________________________________________________________________\n",
      "activation_22 (Activation)      (None, 19, 16, 512)  0           add_7[0][0]                      \n",
      "__________________________________________________________________________________________________\n",
      "res4a_branch2a (Conv2D)         (None, 10, 8, 256)   131328      activation_22[0][0]              \n",
      "__________________________________________________________________________________________________\n",
      "bn4a_branch2a (BatchNormalizati (None, 10, 8, 256)   1024        res4a_branch2a[0][0]             \n",
      "__________________________________________________________________________________________________\n",
      "activation_23 (Activation)      (None, 10, 8, 256)   0           bn4a_branch2a[0][0]              \n",
      "__________________________________________________________________________________________________\n",
      "res4a_branch2b (Conv2D)         (None, 10, 8, 256)   590080      activation_23[0][0]              \n",
      "__________________________________________________________________________________________________\n",
      "bn4a_branch2b (BatchNormalizati (None, 10, 8, 256)   1024        res4a_branch2b[0][0]             \n",
      "__________________________________________________________________________________________________\n",
      "activation_24 (Activation)      (None, 10, 8, 256)   0           bn4a_branch2b[0][0]              \n",
      "__________________________________________________________________________________________________\n",
      "res4a_branch2c (Conv2D)         (None, 10, 8, 1024)  263168      activation_24[0][0]              \n",
      "__________________________________________________________________________________________________\n",
      "res4a_branch1 (Conv2D)          (None, 10, 8, 1024)  525312      activation_22[0][0]              \n",
      "__________________________________________________________________________________________________\n",
      "bn4a_branch2c (BatchNormalizati (None, 10, 8, 1024)  4096        res4a_branch2c[0][0]             \n",
      "__________________________________________________________________________________________________\n",
      "bn4a_branch1 (BatchNormalizatio (None, 10, 8, 1024)  4096        res4a_branch1[0][0]              \n",
      "__________________________________________________________________________________________________\n",
      "add_8 (Add)                     (None, 10, 8, 1024)  0           bn4a_branch2c[0][0]              \n",
      "                                                                 bn4a_branch1[0][0]               \n",
      "__________________________________________________________________________________________________\n",
      "activation_25 (Activation)      (None, 10, 8, 1024)  0           add_8[0][0]                      \n",
      "__________________________________________________________________________________________________\n",
      "res4b_branch2a (Conv2D)         (None, 10, 8, 256)   262400      activation_25[0][0]              \n",
      "__________________________________________________________________________________________________\n",
      "bn4b_branch2a (BatchNormalizati (None, 10, 8, 256)   1024        res4b_branch2a[0][0]             \n",
      "__________________________________________________________________________________________________\n",
      "activation_26 (Activation)      (None, 10, 8, 256)   0           bn4b_branch2a[0][0]              \n",
      "__________________________________________________________________________________________________\n",
      "res4b_branch2b (Conv2D)         (None, 10, 8, 256)   590080      activation_26[0][0]              \n",
      "__________________________________________________________________________________________________\n",
      "bn4b_branch2b (BatchNormalizati (None, 10, 8, 256)   1024        res4b_branch2b[0][0]             \n",
      "__________________________________________________________________________________________________\n",
      "activation_27 (Activation)      (None, 10, 8, 256)   0           bn4b_branch2b[0][0]              \n",
      "__________________________________________________________________________________________________\n",
      "res4b_branch2c (Conv2D)         (None, 10, 8, 1024)  263168      activation_27[0][0]              \n",
      "__________________________________________________________________________________________________\n",
      "bn4b_branch2c (BatchNormalizati (None, 10, 8, 1024)  4096        res4b_branch2c[0][0]             \n",
      "__________________________________________________________________________________________________\n",
      "add_9 (Add)                     (None, 10, 8, 1024)  0           bn4b_branch2c[0][0]              \n",
      "                                                                 activation_25[0][0]              \n",
      "__________________________________________________________________________________________________\n",
      "activation_28 (Activation)      (None, 10, 8, 1024)  0           add_9[0][0]                      \n",
      "__________________________________________________________________________________________________\n",
      "res4c_branch2a (Conv2D)         (None, 10, 8, 256)   262400      activation_28[0][0]              \n",
      "__________________________________________________________________________________________________\n",
      "bn4c_branch2a (BatchNormalizati (None, 10, 8, 256)   1024        res4c_branch2a[0][0]             \n",
      "__________________________________________________________________________________________________\n",
      "activation_29 (Activation)      (None, 10, 8, 256)   0           bn4c_branch2a[0][0]              \n",
      "__________________________________________________________________________________________________\n",
      "res4c_branch2b (Conv2D)         (None, 10, 8, 256)   590080      activation_29[0][0]              \n",
      "__________________________________________________________________________________________________\n",
      "bn4c_branch2b (BatchNormalizati (None, 10, 8, 256)   1024        res4c_branch2b[0][0]             \n",
      "__________________________________________________________________________________________________\n",
      "activation_30 (Activation)      (None, 10, 8, 256)   0           bn4c_branch2b[0][0]              \n",
      "__________________________________________________________________________________________________\n",
      "res4c_branch2c (Conv2D)         (None, 10, 8, 1024)  263168      activation_30[0][0]              \n",
      "__________________________________________________________________________________________________\n",
      "bn4c_branch2c (BatchNormalizati (None, 10, 8, 1024)  4096        res4c_branch2c[0][0]             \n",
      "__________________________________________________________________________________________________\n",
      "add_10 (Add)                    (None, 10, 8, 1024)  0           bn4c_branch2c[0][0]              \n",
      "                                                                 activation_28[0][0]              \n",
      "__________________________________________________________________________________________________\n",
      "activation_31 (Activation)      (None, 10, 8, 1024)  0           add_10[0][0]                     \n",
      "__________________________________________________________________________________________________\n",
      "res4d_branch2a (Conv2D)         (None, 10, 8, 256)   262400      activation_31[0][0]              \n",
      "__________________________________________________________________________________________________\n",
      "bn4d_branch2a (BatchNormalizati (None, 10, 8, 256)   1024        res4d_branch2a[0][0]             \n",
      "__________________________________________________________________________________________________\n",
      "activation_32 (Activation)      (None, 10, 8, 256)   0           bn4d_branch2a[0][0]              \n",
      "__________________________________________________________________________________________________\n",
      "res4d_branch2b (Conv2D)         (None, 10, 8, 256)   590080      activation_32[0][0]              \n",
      "__________________________________________________________________________________________________\n",
      "bn4d_branch2b (BatchNormalizati (None, 10, 8, 256)   1024        res4d_branch2b[0][0]             \n",
      "__________________________________________________________________________________________________\n",
      "activation_33 (Activation)      (None, 10, 8, 256)   0           bn4d_branch2b[0][0]              \n",
      "__________________________________________________________________________________________________\n",
      "res4d_branch2c (Conv2D)         (None, 10, 8, 1024)  263168      activation_33[0][0]              \n",
      "__________________________________________________________________________________________________\n",
      "bn4d_branch2c (BatchNormalizati (None, 10, 8, 1024)  4096        res4d_branch2c[0][0]             \n",
      "__________________________________________________________________________________________________\n",
      "add_11 (Add)                    (None, 10, 8, 1024)  0           bn4d_branch2c[0][0]              \n",
      "                                                                 activation_31[0][0]              \n",
      "__________________________________________________________________________________________________\n",
      "activation_34 (Activation)      (None, 10, 8, 1024)  0           add_11[0][0]                     \n",
      "__________________________________________________________________________________________________\n",
      "res4e_branch2a (Conv2D)         (None, 10, 8, 256)   262400      activation_34[0][0]              \n",
      "__________________________________________________________________________________________________\n",
      "bn4e_branch2a (BatchNormalizati (None, 10, 8, 256)   1024        res4e_branch2a[0][0]             \n",
      "__________________________________________________________________________________________________\n",
      "activation_35 (Activation)      (None, 10, 8, 256)   0           bn4e_branch2a[0][0]              \n",
      "__________________________________________________________________________________________________\n",
      "res4e_branch2b (Conv2D)         (None, 10, 8, 256)   590080      activation_35[0][0]              \n",
      "__________________________________________________________________________________________________\n",
      "bn4e_branch2b (BatchNormalizati (None, 10, 8, 256)   1024        res4e_branch2b[0][0]             \n",
      "__________________________________________________________________________________________________\n",
      "activation_36 (Activation)      (None, 10, 8, 256)   0           bn4e_branch2b[0][0]              \n",
      "__________________________________________________________________________________________________\n",
      "res4e_branch2c (Conv2D)         (None, 10, 8, 1024)  263168      activation_36[0][0]              \n",
      "__________________________________________________________________________________________________\n",
      "bn4e_branch2c (BatchNormalizati (None, 10, 8, 1024)  4096        res4e_branch2c[0][0]             \n",
      "__________________________________________________________________________________________________\n",
      "add_12 (Add)                    (None, 10, 8, 1024)  0           bn4e_branch2c[0][0]              \n",
      "                                                                 activation_34[0][0]              \n",
      "__________________________________________________________________________________________________\n",
      "activation_37 (Activation)      (None, 10, 8, 1024)  0           add_12[0][0]                     \n",
      "__________________________________________________________________________________________________\n",
      "res4f_branch2a (Conv2D)         (None, 10, 8, 256)   262400      activation_37[0][0]              \n",
      "__________________________________________________________________________________________________\n",
      "bn4f_branch2a (BatchNormalizati (None, 10, 8, 256)   1024        res4f_branch2a[0][0]             \n",
      "__________________________________________________________________________________________________\n",
      "activation_38 (Activation)      (None, 10, 8, 256)   0           bn4f_branch2a[0][0]              \n",
      "__________________________________________________________________________________________________\n",
      "res4f_branch2b (Conv2D)         (None, 10, 8, 256)   590080      activation_38[0][0]              \n",
      "__________________________________________________________________________________________________\n",
      "bn4f_branch2b (BatchNormalizati (None, 10, 8, 256)   1024        res4f_branch2b[0][0]             \n",
      "__________________________________________________________________________________________________\n",
      "activation_39 (Activation)      (None, 10, 8, 256)   0           bn4f_branch2b[0][0]              \n",
      "__________________________________________________________________________________________________\n",
      "res4f_branch2c (Conv2D)         (None, 10, 8, 1024)  263168      activation_39[0][0]              \n",
      "__________________________________________________________________________________________________\n",
      "bn4f_branch2c (BatchNormalizati (None, 10, 8, 1024)  4096        res4f_branch2c[0][0]             \n",
      "__________________________________________________________________________________________________\n",
      "add_13 (Add)                    (None, 10, 8, 1024)  0           bn4f_branch2c[0][0]              \n",
      "                                                                 activation_37[0][0]              \n",
      "__________________________________________________________________________________________________\n",
      "activation_40 (Activation)      (None, 10, 8, 1024)  0           add_13[0][0]                     \n",
      "__________________________________________________________________________________________________\n",
      "res5a_branch2a (Conv2D)         (None, 5, 4, 512)    524800      activation_40[0][0]              \n",
      "__________________________________________________________________________________________________\n",
      "bn5a_branch2a (BatchNormalizati (None, 5, 4, 512)    2048        res5a_branch2a[0][0]             \n",
      "__________________________________________________________________________________________________\n",
      "activation_41 (Activation)      (None, 5, 4, 512)    0           bn5a_branch2a[0][0]              \n",
      "__________________________________________________________________________________________________\n",
      "res5a_branch2b (Conv2D)         (None, 5, 4, 512)    2359808     activation_41[0][0]              \n",
      "__________________________________________________________________________________________________\n",
      "bn5a_branch2b (BatchNormalizati (None, 5, 4, 512)    2048        res5a_branch2b[0][0]             \n",
      "__________________________________________________________________________________________________\n",
      "activation_42 (Activation)      (None, 5, 4, 512)    0           bn5a_branch2b[0][0]              \n",
      "__________________________________________________________________________________________________\n",
      "res5a_branch2c (Conv2D)         (None, 5, 4, 2048)   1050624     activation_42[0][0]              \n",
      "__________________________________________________________________________________________________\n",
      "res5a_branch1 (Conv2D)          (None, 5, 4, 2048)   2099200     activation_40[0][0]              \n",
      "__________________________________________________________________________________________________\n",
      "bn5a_branch2c (BatchNormalizati (None, 5, 4, 2048)   8192        res5a_branch2c[0][0]             \n",
      "__________________________________________________________________________________________________\n",
      "bn5a_branch1 (BatchNormalizatio (None, 5, 4, 2048)   8192        res5a_branch1[0][0]              \n",
      "__________________________________________________________________________________________________\n",
      "add_14 (Add)                    (None, 5, 4, 2048)   0           bn5a_branch2c[0][0]              \n",
      "                                                                 bn5a_branch1[0][0]               \n",
      "__________________________________________________________________________________________________\n",
      "activation_43 (Activation)      (None, 5, 4, 2048)   0           add_14[0][0]                     \n",
      "__________________________________________________________________________________________________\n",
      "res5b_branch2a (Conv2D)         (None, 5, 4, 512)    1049088     activation_43[0][0]              \n",
      "__________________________________________________________________________________________________\n",
      "bn5b_branch2a (BatchNormalizati (None, 5, 4, 512)    2048        res5b_branch2a[0][0]             \n",
      "__________________________________________________________________________________________________\n",
      "activation_44 (Activation)      (None, 5, 4, 512)    0           bn5b_branch2a[0][0]              \n",
      "__________________________________________________________________________________________________\n",
      "res5b_branch2b (Conv2D)         (None, 5, 4, 512)    2359808     activation_44[0][0]              \n",
      "__________________________________________________________________________________________________\n",
      "bn5b_branch2b (BatchNormalizati (None, 5, 4, 512)    2048        res5b_branch2b[0][0]             \n",
      "__________________________________________________________________________________________________\n",
      "activation_45 (Activation)      (None, 5, 4, 512)    0           bn5b_branch2b[0][0]              \n",
      "__________________________________________________________________________________________________\n",
      "res5b_branch2c (Conv2D)         (None, 5, 4, 2048)   1050624     activation_45[0][0]              \n",
      "__________________________________________________________________________________________________\n",
      "bn5b_branch2c (BatchNormalizati (None, 5, 4, 2048)   8192        res5b_branch2c[0][0]             \n",
      "__________________________________________________________________________________________________\n",
      "add_15 (Add)                    (None, 5, 4, 2048)   0           bn5b_branch2c[0][0]              \n",
      "                                                                 activation_43[0][0]              \n",
      "__________________________________________________________________________________________________\n",
      "activation_46 (Activation)      (None, 5, 4, 2048)   0           add_15[0][0]                     \n",
      "__________________________________________________________________________________________________\n",
      "res5c_branch2a (Conv2D)         (None, 5, 4, 512)    1049088     activation_46[0][0]              \n",
      "__________________________________________________________________________________________________\n",
      "bn5c_branch2a (BatchNormalizati (None, 5, 4, 512)    2048        res5c_branch2a[0][0]             \n",
      "__________________________________________________________________________________________________\n",
      "activation_47 (Activation)      (None, 5, 4, 512)    0           bn5c_branch2a[0][0]              \n",
      "__________________________________________________________________________________________________\n",
      "res5c_branch2b (Conv2D)         (None, 5, 4, 512)    2359808     activation_47[0][0]              \n",
      "__________________________________________________________________________________________________\n",
      "bn5c_branch2b (BatchNormalizati (None, 5, 4, 512)    2048        res5c_branch2b[0][0]             \n",
      "__________________________________________________________________________________________________\n",
      "activation_48 (Activation)      (None, 5, 4, 512)    0           bn5c_branch2b[0][0]              \n",
      "__________________________________________________________________________________________________\n",
      "res5c_branch2c (Conv2D)         (None, 5, 4, 2048)   1050624     activation_48[0][0]              \n",
      "__________________________________________________________________________________________________\n",
      "bn5c_branch2c (BatchNormalizati (None, 5, 4, 2048)   8192        res5c_branch2c[0][0]             \n",
      "__________________________________________________________________________________________________\n",
      "add_16 (Add)                    (None, 5, 4, 2048)   0           bn5c_branch2c[0][0]              \n",
      "                                                                 activation_46[0][0]              \n",
      "__________________________________________________________________________________________________\n",
      "activation_49 (Activation)      (None, 5, 4, 2048)   0           add_16[0][0]                     \n",
      "__________________________________________________________________________________________________\n",
      "flatten_1 (Flatten)             (None, 40960)        0           activation_49[0][0]              \n",
      "__________________________________________________________________________________________________\n",
      "dense_1 (Dense)                 (None, 128)          5243008     flatten_1[0][0]                  \n",
      "__________________________________________________________________________________________________\n",
      "dense_2 (Dense)                 (None, 3)            387         dense_1[0][0]                    \n",
      "==================================================================================================\n",
      "Total params: 28,831,107\n",
      "Trainable params: 28,777,987\n",
      "Non-trainable params: 53,120\n",
      "__________________________________________________________________________________________________\n",
      "None\n"
     ]
    }
   ],
   "source": [
    "print(model.summary())"
   ]
  },
  {
   "cell_type": "markdown",
   "metadata": {},
   "source": [
    "#### Compile and train the model with Adam optimizer"
   ]
  },
  {
   "cell_type": "code",
   "execution_count": 15,
   "metadata": {
    "scrolled": true
   },
   "outputs": [
    {
     "name": "stdout",
     "output_type": "stream",
     "text": [
      "WARNING:tensorflow:From /home/kushpal/.local/lib/python3.5/site-packages/tensorflow/python/ops/math_ops.py:3066: to_int32 (from tensorflow.python.ops.math_ops) is deprecated and will be removed in a future version.\n",
      "Instructions for updating:\n",
      "Use tf.cast instead.\n",
      "Train on 22107 samples, validate on 2457 samples\n",
      "Epoch 1/50\n",
      "22107/22107 [==============================] - 79s 4ms/step - loss: 0.9899 - acc: 0.5139 - val_loss: 0.7580 - val_acc: 0.6516\n",
      "Epoch 2/50\n",
      "22107/22107 [==============================] - 63s 3ms/step - loss: 0.5555 - acc: 0.7451 - val_loss: 0.5472 - val_acc: 0.7444\n",
      "Epoch 3/50\n",
      "22107/22107 [==============================] - 63s 3ms/step - loss: 0.3824 - acc: 0.8195 - val_loss: 0.4694 - val_acc: 0.7733\n",
      "Epoch 4/50\n",
      "22107/22107 [==============================] - 63s 3ms/step - loss: 0.3157 - acc: 0.8429 - val_loss: 0.4232 - val_acc: 0.7880\n",
      "Epoch 5/50\n",
      "22107/22107 [==============================] - 63s 3ms/step - loss: 0.2864 - acc: 0.8519 - val_loss: 0.4266 - val_acc: 0.7908\n",
      "Epoch 6/50\n",
      "22107/22107 [==============================] - 64s 3ms/step - loss: 0.2781 - acc: 0.8532 - val_loss: 0.4085 - val_acc: 0.8026\n",
      "Epoch 7/50\n",
      "22107/22107 [==============================] - 64s 3ms/step - loss: 0.2659 - acc: 0.8562 - val_loss: 0.3930 - val_acc: 0.8010\n",
      "Epoch 8/50\n",
      "22107/22107 [==============================] - 64s 3ms/step - loss: 0.2546 - acc: 0.8598 - val_loss: 0.3941 - val_acc: 0.8091\n",
      "Epoch 9/50\n",
      "22107/22107 [==============================] - 64s 3ms/step - loss: 0.2461 - acc: 0.8632 - val_loss: 0.4066 - val_acc: 0.8030\n",
      "Epoch 10/50\n",
      "22107/22107 [==============================] - 64s 3ms/step - loss: 0.2519 - acc: 0.8599 - val_loss: 0.3873 - val_acc: 0.8124\n",
      "Epoch 11/50\n",
      "22107/22107 [==============================] - 63s 3ms/step - loss: 0.2441 - acc: 0.8616 - val_loss: 0.3967 - val_acc: 0.8132\n",
      "Epoch 12/50\n",
      "22107/22107 [==============================] - 64s 3ms/step - loss: 0.2486 - acc: 0.8619 - val_loss: 0.3852 - val_acc: 0.8124\n",
      "Epoch 13/50\n",
      "22107/22107 [==============================] - 63s 3ms/step - loss: 0.2371 - acc: 0.8672 - val_loss: 0.3762 - val_acc: 0.8185\n",
      "Epoch 14/50\n",
      "22107/22107 [==============================] - 63s 3ms/step - loss: 0.2344 - acc: 0.8657 - val_loss: 0.4062 - val_acc: 0.8071\n",
      "Epoch 15/50\n",
      "22107/22107 [==============================] - 64s 3ms/step - loss: 0.2421 - acc: 0.8629 - val_loss: 0.4055 - val_acc: 0.8095\n",
      "Epoch 16/50\n",
      "22107/22107 [==============================] - 63s 3ms/step - loss: 0.2378 - acc: 0.8647 - val_loss: 0.3888 - val_acc: 0.8136\n",
      "Epoch 17/50\n",
      "22107/22107 [==============================] - 63s 3ms/step - loss: 0.2321 - acc: 0.8663 - val_loss: 0.3844 - val_acc: 0.8185\n",
      "Epoch 18/50\n",
      "22107/22107 [==============================] - 63s 3ms/step - loss: 0.2362 - acc: 0.8662 - val_loss: 0.3723 - val_acc: 0.8217\n",
      "Epoch 19/50\n",
      "22107/22107 [==============================] - 63s 3ms/step - loss: 0.2326 - acc: 0.8648 - val_loss: 0.3935 - val_acc: 0.8213\n",
      "Epoch 20/50\n",
      "22107/22107 [==============================] - 64s 3ms/step - loss: 0.2322 - acc: 0.8671 - val_loss: 0.3737 - val_acc: 0.8201\n",
      "Epoch 21/50\n",
      "22107/22107 [==============================] - 63s 3ms/step - loss: 0.2560 - acc: 0.8592 - val_loss: 0.4028 - val_acc: 0.8128\n",
      "Epoch 22/50\n",
      "22107/22107 [==============================] - 63s 3ms/step - loss: 0.2462 - acc: 0.8619 - val_loss: 0.3667 - val_acc: 0.8270\n",
      "Epoch 23/50\n",
      "22107/22107 [==============================] - 63s 3ms/step - loss: 0.2389 - acc: 0.8643 - val_loss: 0.4091 - val_acc: 0.8136\n",
      "Epoch 24/50\n",
      "22107/22107 [==============================] - 63s 3ms/step - loss: 0.2402 - acc: 0.8639 - val_loss: 0.3698 - val_acc: 0.8311\n",
      "Epoch 25/50\n",
      "22107/22107 [==============================] - 63s 3ms/step - loss: 0.2296 - acc: 0.8659 - val_loss: 0.3704 - val_acc: 0.8242\n",
      "Epoch 26/50\n",
      "22107/22107 [==============================] - 63s 3ms/step - loss: 0.2275 - acc: 0.8679 - val_loss: 0.3638 - val_acc: 0.8295\n",
      "Epoch 27/50\n",
      "22107/22107 [==============================] - 63s 3ms/step - loss: 0.2282 - acc: 0.8675 - val_loss: 0.3498 - val_acc: 0.8311\n",
      "Epoch 28/50\n",
      "22107/22107 [==============================] - 63s 3ms/step - loss: 0.2261 - acc: 0.8677 - val_loss: 0.3518 - val_acc: 0.8348\n",
      "Epoch 29/50\n",
      "22107/22107 [==============================] - 64s 3ms/step - loss: 0.2270 - acc: 0.8682 - val_loss: 0.3719 - val_acc: 0.8287\n",
      "Epoch 30/50\n",
      "22107/22107 [==============================] - 63s 3ms/step - loss: 0.2264 - acc: 0.8669 - val_loss: 0.3708 - val_acc: 0.8335\n",
      "Epoch 31/50\n",
      "22107/22107 [==============================] - 63s 3ms/step - loss: 0.2297 - acc: 0.8671 - val_loss: 0.3982 - val_acc: 0.8234\n",
      "Epoch 32/50\n",
      "22107/22107 [==============================] - 63s 3ms/step - loss: 0.2279 - acc: 0.8677 - val_loss: 0.4160 - val_acc: 0.8217\n",
      "Epoch 33/50\n",
      "22107/22107 [==============================] - 63s 3ms/step - loss: 0.2431 - acc: 0.8611 - val_loss: 0.3620 - val_acc: 0.8274\n",
      "Epoch 34/50\n",
      "22107/22107 [==============================] - 63s 3ms/step - loss: 0.2258 - acc: 0.8674 - val_loss: 0.3745 - val_acc: 0.8258\n",
      "Epoch 35/50\n",
      "22107/22107 [==============================] - 63s 3ms/step - loss: 0.2307 - acc: 0.8664 - val_loss: 0.4006 - val_acc: 0.8201\n",
      "Epoch 36/50\n",
      "22107/22107 [==============================] - 64s 3ms/step - loss: 0.2341 - acc: 0.8654 - val_loss: 0.3685 - val_acc: 0.8303\n",
      "Epoch 37/50\n",
      "22107/22107 [==============================] - 63s 3ms/step - loss: 0.2265 - acc: 0.8684 - val_loss: 0.4011 - val_acc: 0.8262\n",
      "Epoch 38/50\n",
      "22107/22107 [==============================] - 64s 3ms/step - loss: 0.2368 - acc: 0.8665 - val_loss: 0.3798 - val_acc: 0.8323\n",
      "Epoch 39/50\n",
      "22107/22107 [==============================] - 63s 3ms/step - loss: 0.2263 - acc: 0.8673 - val_loss: 0.3538 - val_acc: 0.8348\n",
      "Epoch 40/50\n",
      "22107/22107 [==============================] - 63s 3ms/step - loss: 0.2240 - acc: 0.8691 - val_loss: 0.3508 - val_acc: 0.8368\n",
      "Epoch 41/50\n",
      "22107/22107 [==============================] - 63s 3ms/step - loss: 0.2246 - acc: 0.8699 - val_loss: 0.3551 - val_acc: 0.8356\n",
      "Epoch 42/50\n",
      "22107/22107 [==============================] - 63s 3ms/step - loss: 0.2299 - acc: 0.8678 - val_loss: 0.4160 - val_acc: 0.8254\n",
      "Epoch 43/50\n",
      "22107/22107 [==============================] - 63s 3ms/step - loss: 0.2402 - acc: 0.8621 - val_loss: 0.4215 - val_acc: 0.8221\n",
      "Epoch 44/50\n",
      "22107/22107 [==============================] - 63s 3ms/step - loss: 0.2292 - acc: 0.8664 - val_loss: 0.4142 - val_acc: 0.8246\n",
      "Epoch 45/50\n",
      "22107/22107 [==============================] - 63s 3ms/step - loss: 0.2382 - acc: 0.8643 - val_loss: 0.3784 - val_acc: 0.8335\n",
      "Epoch 46/50\n",
      "22107/22107 [==============================] - 63s 3ms/step - loss: 0.2239 - acc: 0.8699 - val_loss: 0.3590 - val_acc: 0.8348\n",
      "Epoch 47/50\n",
      "22107/22107 [==============================] - 63s 3ms/step - loss: 0.2240 - acc: 0.8710 - val_loss: 0.3889 - val_acc: 0.8323\n",
      "Epoch 48/50\n",
      "22107/22107 [==============================] - 63s 3ms/step - loss: 0.2266 - acc: 0.8699 - val_loss: 0.3926 - val_acc: 0.8335\n",
      "Epoch 49/50\n",
      "22107/22107 [==============================] - 63s 3ms/step - loss: 0.2246 - acc: 0.8681 - val_loss: 0.4233 - val_acc: 0.8327\n",
      "Epoch 50/50\n",
      "22107/22107 [==============================] - 64s 3ms/step - loss: 0.2308 - acc: 0.8681 - val_loss: 0.3996 - val_acc: 0.8274\n"
     ]
    }
   ],
   "source": [
    "model.compile(keras.optimizers.Adam(lr=1e-5), loss='categorical_crossentropy', metrics=['accuracy'])\n",
    "val=model.fit(x=x_train,y=y_train,batch_size=100, epochs=50,validation_split=0.1)"
   ]
  },
  {
   "cell_type": "markdown",
   "metadata": {},
   "source": [
    "#### The model loss and accuracy on test data. "
   ]
  },
  {
   "cell_type": "code",
   "execution_count": 16,
   "metadata": {},
   "outputs": [
    {
     "name": "stdout",
     "output_type": "stream",
     "text": [
      "Number of images in x_test 12099\n",
      "12099/12099 [==============================] - 13s 1ms/step\n"
     ]
    },
    {
     "data": {
      "text/plain": [
       "[0.41938977127124855, 0.8200677741986778]"
      ]
     },
     "execution_count": 16,
     "metadata": {},
     "output_type": "execute_result"
    }
   ],
   "source": [
    "X_test=np.array(X_test)\n",
    "x_test = X_test.reshape(X_test.shape[0],145,121,3)\n",
    "x_test = x_test.astype('float32')\n",
    "print('Number of images in x_test', x_test.shape[0])\n",
    "model.evaluate(x_test,y_test)\n"
   ]
  },
  {
   "cell_type": "code",
   "execution_count": 17,
   "metadata": {},
   "outputs": [
    {
     "data": {
      "text/plain": [
       "Text(0, 0.5, 'Accuracy')"
      ]
     },
     "execution_count": 17,
     "metadata": {},
     "output_type": "execute_result"
    },
    {
     "data": {
      "image/png": "[encoded data removed]",
      "text/plain": [
       "<Figure size 432x288 with 1 Axes>"
      ]
     },
     "metadata": {
      "needs_background": "light"
     },
     "output_type": "display_data"
    }
   ],
   "source": [
    "plt.plot(val.history['acc'])\n",
    "plt.plot(val.history['val_acc'])\n",
    "plt.legend(['Training accuracy' ,'Validation Accuracy'])\n",
    "plt.title(\"Train vs Validation ACC With ResNet\")\n",
    "plt.xlabel(\"# of Epoch\")\n",
    "plt.ylabel(\"Accuracy\")"
   ]
  }
 ],
 "metadata": {
  "kernelspec": {
   "display_name": "Python 3",
   "language": "python",
   "name": "python3"
  },
  "language_info": {
   "codemirror_mode": {
    "name": "ipython",
    "version": 3
   },
   "file_extension": ".py",
   "mimetype": "text/x-python",
   "name": "python",
   "nbconvert_exporter": "python",
   "pygments_lexer": "ipython3",
   "version": "3.5.2"
  }
 },
 "nbformat": 4,
 "nbformat_minor": 2
}
